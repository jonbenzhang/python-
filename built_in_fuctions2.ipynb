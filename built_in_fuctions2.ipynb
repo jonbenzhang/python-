{
 "cells": [
  {
   "cell_type": "markdown",
   "metadata": {},
   "source": [
    "## map()"
   ]
  },
  {
   "cell_type": "markdown",
   "metadata": {},
   "source": [
    "**map(function, iterable,...)**\n",
    "1. 解释\n",
    "    \n",
    "    返回一个将 function 应用于 iterable 中每一项并输出其结果的迭代器\n",
    "2. 输入\n",
    "    * function  函数\n",
    "    * iterable  一个或多个迭代器(多个迭代器时,函数要和迭代器对应)\n",
    "3. 返回\n",
    "    * python3.x 返回迭代器\n",
    "    * python2.x 返回列表"
   ]
  },
  {
   "cell_type": "code",
   "execution_count": 10,
   "metadata": {},
   "outputs": [
    {
     "name": "stdout",
     "output_type": "stream",
     "text": [
      "1\n",
      "4\n",
      "9\n"
     ]
    }
   ],
   "source": [
    "map_a = [1,2,3]\n",
    "map_b = [4,5,6]\n",
    "def square(x):\n",
    "    return x**2\n",
    "map_c = map(square,map_a)\n",
    "for i in map_c:\n",
    "    print(i)"
   ]
  },
  {
   "cell_type": "code",
   "execution_count": 11,
   "metadata": {},
   "outputs": [
    {
     "name": "stdout",
     "output_type": "stream",
     "text": [
      "4\n",
      "10\n",
      "18\n"
     ]
    }
   ],
   "source": [
    "map_a = [1,2,3]\n",
    "map_b = [4,5,6]\n",
    "def square(x,y):\n",
    "    return x*y\n",
    "map_c = map(square,map_a,map_b)\n",
    "for i in map_c:\n",
    "    print(i)"
   ]
  },
  {
   "cell_type": "markdown",
   "metadata": {},
   "source": [
    "## max()"
   ]
  },
  {
   "cell_type": "markdown",
   "metadata": {},
   "source": [
    "**max(iterable,key,default)**\n",
    "\n",
    "1. 简介\n",
    "    \n",
    "    返回可迭代对象中最大的元素，或者返回两个及以上实参中最大的。\n",
    "        * 如果有多个最大元素，则此函数将返回第一个找到的\n",
    "2. 输入\n",
    "    * iterable 迭代器\n",
    "    * key (可选参数)其为一个函数，用来指定取最大值的方法\n",
    "    * default (可选参数)迭代对象为空时，必须指定参数default，用来返回默认值\n",
    "3. 返回\n",
    "    * 最大值参数\n",
    "    "
   ]
  },
  {
   "cell_type": "code",
   "execution_count": 35,
   "metadata": {},
   "outputs": [
    {
     "name": "stdout",
     "output_type": "stream",
     "text": [
      "[2, 5]\n",
      "3\n",
      "{'name': 'first', 'age': 23, 'height': 170}\n"
     ]
    }
   ],
   "source": [
    "print(max([1,3],[2,5]))\n",
    "max_a = max([1,2,3])\n",
    "print(max_a)\n",
    "max_b = [{\"name\":\"first\",\"age\":23,\"height\":170},{\"name\":\"second\",\"age\":33,\"height\":165},{\"name\":\"third\",\"age\":15,\"height\":170}]\n",
    "print(max(max_b, key=lambda x:x[\"height\"]))"
   ]
  },
  {
   "cell_type": "code",
   "execution_count": 34,
   "metadata": {},
   "outputs": [
    {
     "name": "stdout",
     "output_type": "stream",
     "text": [
      "1\n"
     ]
    },
    {
     "ename": "ValueError",
     "evalue": "max() arg is an empty sequence",
     "output_type": "error",
     "traceback": [
      "\u001b[0;31m---------------------------------------------------------------------------\u001b[0m",
      "\u001b[0;31mValueError\u001b[0m                                Traceback (most recent call last)",
      "\u001b[0;32m<ipython-input-34-1cc10ea91576>\u001b[0m in \u001b[0;36m<module>\u001b[0;34m\u001b[0m\n\u001b[1;32m      1\u001b[0m \u001b[0mprint\u001b[0m\u001b[0;34m(\u001b[0m\u001b[0mmax\u001b[0m\u001b[0;34m(\u001b[0m\u001b[0;34m(\u001b[0m\u001b[0;34m)\u001b[0m\u001b[0;34m,\u001b[0m\u001b[0mdefault\u001b[0m\u001b[0;34m=\u001b[0m\u001b[0;36m1\u001b[0m\u001b[0;34m)\u001b[0m\u001b[0;34m)\u001b[0m\u001b[0;31m# 3、传入可迭代对象为空时，必须指定参数default，用来返回默认值\u001b[0m\u001b[0;34m\u001b[0m\u001b[0;34m\u001b[0m\u001b[0m\n\u001b[0;32m----> 2\u001b[0;31m \u001b[0mprint\u001b[0m\u001b[0;34m(\u001b[0m\u001b[0mmax\u001b[0m\u001b[0;34m(\u001b[0m\u001b[0;34m(\u001b[0m\u001b[0;34m)\u001b[0m\u001b[0;34m)\u001b[0m\u001b[0;34m)\u001b[0m\u001b[0;31m#报错\u001b[0m\u001b[0;34m\u001b[0m\u001b[0;34m\u001b[0m\u001b[0m\n\u001b[0m",
      "\u001b[0;31mValueError\u001b[0m: max() arg is an empty sequence"
     ]
    }
   ],
   "source": [
    "print(max((),default=1))# 3、传入可迭代对象为空时，必须指定参数default，用来返回默认值\n",
    "print(max(()))#报错"
   ]
  },
  {
   "cell_type": "markdown",
   "metadata": {},
   "source": [
    "## min()"
   ]
  },
  {
   "cell_type": "markdown",
   "metadata": {},
   "source": [
    "**min(iterable,key,default)**\n",
    "\n",
    "1. 简介\n",
    "    \n",
    "    返回可迭代对象中最小的元素，或者返回两个及以上实参中最小的。\n",
    "        * 如果有多个最小元素，则此函数将返回第一个找到的\n",
    "2. 输入\n",
    "    * iterable 迭代器\n",
    "    * key (可选参数)其为一个函数，用来指定取最小值的方法\n",
    "    * default (可选参数)迭代对象为空时，必须指定参数default，用来返回默认值\n",
    "3. 返回\n",
    "    * 最小值参数"
   ]
  },
  {
   "cell_type": "code",
   "execution_count": 36,
   "metadata": {},
   "outputs": [
    {
     "name": "stdout",
     "output_type": "stream",
     "text": [
      "[1, 3]\n",
      "1\n",
      "{'name': 'second', 'age': 33, 'height': 165}\n"
     ]
    }
   ],
   "source": [
    "print(min([1,3],[2,5]))\n",
    "min_a = min([1,2,3])\n",
    "print(min_a)\n",
    "min_b = [{\"name\":\"first\",\"age\":23,\"height\":170},{\"name\":\"second\",\"age\":33,\"height\":165},{\"name\":\"third\",\"age\":15,\"height\":170}]\n",
    "print(min(min_b, key=lambda x:x[\"height\"]))"
   ]
  },
  {
   "cell_type": "code",
   "execution_count": 37,
   "metadata": {},
   "outputs": [
    {
     "name": "stdout",
     "output_type": "stream",
     "text": [
      "1\n"
     ]
    },
    {
     "ename": "ValueError",
     "evalue": "min() arg is an empty sequence",
     "output_type": "error",
     "traceback": [
      "\u001b[0;31m---------------------------------------------------------------------------\u001b[0m",
      "\u001b[0;31mValueError\u001b[0m                                Traceback (most recent call last)",
      "\u001b[0;32m<ipython-input-37-379b76ec85b4>\u001b[0m in \u001b[0;36m<module>\u001b[0;34m\u001b[0m\n\u001b[1;32m      1\u001b[0m \u001b[0mprint\u001b[0m\u001b[0;34m(\u001b[0m\u001b[0mmin\u001b[0m\u001b[0;34m(\u001b[0m\u001b[0;34m(\u001b[0m\u001b[0;34m)\u001b[0m\u001b[0;34m,\u001b[0m\u001b[0mdefault\u001b[0m\u001b[0;34m=\u001b[0m\u001b[0;36m1\u001b[0m\u001b[0;34m)\u001b[0m\u001b[0;34m)\u001b[0m\u001b[0;31m# 3、传入可迭代对象为空时，必须指定参数default，用来返回默认值\u001b[0m\u001b[0;34m\u001b[0m\u001b[0;34m\u001b[0m\u001b[0m\n\u001b[0;32m----> 2\u001b[0;31m \u001b[0mprint\u001b[0m\u001b[0;34m(\u001b[0m\u001b[0mmin\u001b[0m\u001b[0;34m(\u001b[0m\u001b[0;34m(\u001b[0m\u001b[0;34m)\u001b[0m\u001b[0;34m)\u001b[0m\u001b[0;34m)\u001b[0m\u001b[0;31m#报错\u001b[0m\u001b[0;34m\u001b[0m\u001b[0;34m\u001b[0m\u001b[0m\n\u001b[0m",
      "\u001b[0;31mValueError\u001b[0m: min() arg is an empty sequence"
     ]
    }
   ],
   "source": [
    "print(min((),default=1))# 3、传入可迭代对象为空时，必须指定参数default，用来返回默认值\n",
    "print(min(()))#报错"
   ]
  },
  {
   "cell_type": "markdown",
   "metadata": {},
   "source": [
    "## next()"
   ]
  },
  {
   "cell_type": "markdown",
   "metadata": {},
   "source": [
    "**next(iterable,default)*\n",
    "1. 简介\n",
    "\n",
    "    返回迭代器的下一个项目\n",
    "2. 输入\n",
    "    * iterable 可迭代对象\n",
    "    * default  可选参数，用于设置在没有下一个元素时返回该默认值，如果不设置，又没有下一个元素则会触发 StopIteration 异常。\n",
    "3. 输出\n",
    "    * 迭代器的下一个项目\n",
    "   "
   ]
  },
  {
   "cell_type": "code",
   "execution_count": 38,
   "metadata": {},
   "outputs": [
    {
     "name": "stdout",
     "output_type": "stream",
     "text": [
      "1\n",
      "2\n",
      "3\n",
      "4\n",
      "5\n"
     ]
    }
   ],
   "source": [
    "# 首先获得Iterator对象:\n",
    "it = iter([1,2,3,4,5])\n",
    "\n",
    "# 循环:\n",
    "while True:\n",
    "    try:\n",
    "        # 获得下一个值:\n",
    "        x = next(it)\n",
    "        print(x)\n",
    "    except StopIteration:\n",
    "        break\n",
    "    # 遇到StopIteration就退出循环"
   ]
  },
  {
   "cell_type": "code",
   "execution_count": 46,
   "metadata": {},
   "outputs": [
    {
     "name": "stdout",
     "output_type": "stream",
     "text": [
      "1\n",
      "2\n",
      "默认值\n",
      "默认值\n"
     ]
    }
   ],
   "source": [
    "iter2 = iter([1,2])\n",
    "print(next(iter2,\"默认值\"))\n",
    "print(next(iter2,\"默认值\"))\n",
    "print(next(iter2,\"默认值\"))\n",
    "print(next(iter2,\"默认值\"))"
   ]
  },
  {
   "cell_type": "markdown",
   "metadata": {},
   "source": [
    "## object"
   ]
  },
  {
   "cell_type": "markdown",
   "metadata": {},
   "source": [
    "返回一个没有特征的新对象。object 是所有类的基类。\n",
    "它具有所有 Python 类实例的通用方法。这个函数不接受任何实参。\n",
    "注解 由于 object 没有 __dict__，因此无法将任意属性赋给 object 的实例。"
   ]
  },
  {
   "cell_type": "markdown",
   "metadata": {},
   "source": [
    "##  oct()"
   ]
  },
  {
   "cell_type": "markdown",
   "metadata": {},
   "source": [
    "**oct(x)**\n",
    "1. 简介\n",
    "    * 将整数转换成8进制，以字符串形式表示\n",
    "2. 输入\n",
    "    * x 十进制数\n",
    "    * 如果 x 不是 Python int 对象，则必须定义返回整数的 __index__() 方法.\n",
    "3. 输出\n",
    "    * 对应的8进制字符串"
   ]
  },
  {
   "cell_type": "code",
   "execution_count": 48,
   "metadata": {},
   "outputs": [
    {
     "name": "stdout",
     "output_type": "stream",
     "text": [
      "0o377\n",
      "-0o31\n"
     ]
    }
   ],
   "source": [
    "print(oct(255))\n",
    "print(oct(-25))"
   ]
  },
  {
   "cell_type": "code",
   "execution_count": 52,
   "metadata": {},
   "outputs": [
    {
     "name": "stdout",
     "output_type": "stream",
     "text": [
      "0o377\n",
      "377\n",
      "0o377 377\n"
     ]
    }
   ],
   "source": [
    "# 使用format转8进制.可去掉前缀0o\n",
    "print(format(255,\"#o\"))\n",
    "print(format(255,\"o\"))\n",
    "print('%#o' % 255, '%o' % 255)"
   ]
  },
  {
   "cell_type": "markdown",
   "metadata": {},
   "source": [
    "## open()"
   ]
  },
  {
   "cell_type": "markdown",
   "metadata": {},
   "source": [
    "**open(name, mode, buffering)**"
   ]
  },
  {
   "cell_type": "code",
   "execution_count": null,
   "metadata": {},
   "outputs": [],
   "source": []
  }
 ],
 "metadata": {
  "kernelspec": {
   "display_name": "Python 3",
   "language": "python",
   "name": "python3"
  },
  "language_info": {
   "codemirror_mode": {
    "name": "ipython",
    "version": 3
   },
   "file_extension": ".py",
   "mimetype": "text/x-python",
   "name": "python",
   "nbconvert_exporter": "python",
   "pygments_lexer": "ipython3",
   "version": "3.8.3"
  }
 },
 "nbformat": 4,
 "nbformat_minor": 4
}
