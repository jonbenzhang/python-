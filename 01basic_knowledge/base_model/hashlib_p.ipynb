{
 "cells": [
  {
   "cell_type": "code",
   "execution_count": 7,
   "metadata": {},
   "outputs": [
    {
     "data": {
      "text/plain": [
       "'8cb3b0caf964430fe6f07dd30d3e66af'"
      ]
     },
     "execution_count": 7,
     "metadata": {},
     "output_type": "execute_result"
    }
   ],
   "source": [
    "import hashlib\n",
    "md5 = hashlib.md5()\n",
    "md5.update(b\"zhangmeng\")# 需要传入bytes类型,下面提供了字符串转bytes,bytes(\"zhangmeng\",encoding=\"utf-8\")\n",
    "md5.hexdigest()"
   ]
  },
  {
   "cell_type": "code",
   "execution_count": 8,
   "metadata": {},
   "outputs": [
    {
     "data": {
      "text/plain": [
       "'8cb3b0caf964430fe6f07dd30d3e66af'"
      ]
     },
     "execution_count": 8,
     "metadata": {},
     "output_type": "execute_result"
    }
   ],
   "source": [
    "import hashlib\n",
    "md5 = hashlib.md5()\n",
    "md5.update(bytes(\"zhangmeng\",encoding=\"utf-8\"))# 需要传入bytes类型,\n",
    "md5.hexdigest()"
   ]
  },
  {
   "cell_type": "code",
   "execution_count": 16,
   "metadata": {},
   "outputs": [
    {
     "data": {
      "text/plain": [
       "'f202003381c8dc12b26d646eee2901814f7f5b12706f4f5b007cc7ee1d77d78c37141aa362c97b0f9da8613d57369bb4958294166cdeb908132442d17daa3093'"
      ]
     },
     "execution_count": 16,
     "metadata": {},
     "output_type": "execute_result"
    }
   ],
   "source": [
    "import hashlib\n",
    "# 修改哈希算法，提供了多种哈希算法\n",
    "sha512 = hashlib.sha512()\n",
    "sha512.update(bytes(\"zhangmeng\",encoding=\"utf-8\"))# 需要传入bytes类型,\n",
    "sha512.hexdigest()"
   ]
  },
  {
   "cell_type": "code",
   "execution_count": 9,
   "metadata": {},
   "outputs": [
    {
     "data": {
      "text/plain": [
       "'8cb3b0caf964430fe6f07dd30d3e66af'"
      ]
     },
     "execution_count": 9,
     "metadata": {},
     "output_type": "execute_result"
    }
   ],
   "source": [
    "# 一个字符串拆开分步加密和直接一起加密的结果相同\n",
    "import hashlib\n",
    "md5 = hashlib.md5()\n",
    "md5.update(b\"zhang\")# 与使用md5.update(b\"zhangmeng\")相同\n",
    "md5.update(b\"meng\")\n",
    "md5.hexdigest()\n"
   ]
  },
  {
   "cell_type": "markdown",
   "metadata": {},
   "source": [
    "## 加盐\n",
    "防止撞库，通过md5反解密码"
   ]
  },
  {
   "cell_type": "code",
   "execution_count": 13,
   "metadata": {},
   "outputs": [
    {
     "data": {
      "text/plain": [
       "'987f4b196e09db14a0e5663483b1c45d'"
      ]
     },
     "execution_count": 13,
     "metadata": {},
     "output_type": "execute_result"
    }
   ],
   "source": [
    "import hashlib\n",
    "md5 = hashlib.md5(b\"salt_string\") #加盐b\"salt_string\"\n",
    "md5.update(b\"zhangmeng\")\n",
    "md5.hexdigest()"
   ]
  },
  {
   "cell_type": "code",
   "execution_count": 14,
   "metadata": {},
   "outputs": [
    {
     "data": {
      "text/plain": [
       "'987f4b196e09db14a0e5663483b1c45d'"
      ]
     },
     "execution_count": 14,
     "metadata": {},
     "output_type": "execute_result"
    }
   ],
   "source": [
    "# 加盐就是在前面拼接加盐字符串\n",
    "import hashlib\n",
    "md5 = hashlib.md5() #加盐b\"salt_string\"\n",
    "md5.update(b\"salt_string\")\n",
    "md5.update(b\"zhangmeng\")\n",
    "md5.hexdigest()"
   ]
  },
  {
   "cell_type": "code",
   "execution_count": null,
   "metadata": {},
   "outputs": [],
   "source": []
  }
 ],
 "metadata": {
  "kernelspec": {
   "display_name": "Python 3",
   "language": "python",
   "name": "python3"
  },
  "language_info": {
   "codemirror_mode": {
    "name": "ipython",
    "version": 3
   },
   "file_extension": ".py",
   "mimetype": "text/x-python",
   "name": "python",
   "nbconvert_exporter": "python",
   "pygments_lexer": "ipython3",
   "version": "3.7.7"
  }
 },
 "nbformat": 4,
 "nbformat_minor": 4
}
