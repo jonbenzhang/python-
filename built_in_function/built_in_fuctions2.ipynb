{
 "cells": [
  {
   "cell_type": "markdown",
   "metadata": {},
   "source": [
    "## map()"
   ]
  },
  {
   "cell_type": "markdown",
   "metadata": {},
   "source": [
    "**map(function, iterable,...)**\n",
    "1. 解释\n",
    "    \n",
    "    返回一个将 function 应用于 iterable 中每一项并输出其结果的迭代器\n",
    "2. 输入\n",
    "    * function  函数\n",
    "    * iterable  一个或多个迭代器(多个迭代器时,函数要和迭代器对应)\n",
    "3. 返回\n",
    "    * python3.x 返回迭代器\n",
    "    * python2.x 返回列表"
   ]
  },
  {
   "cell_type": "code",
   "execution_count": 10,
   "metadata": {},
   "outputs": [
    {
     "name": "stdout",
     "output_type": "stream",
     "text": [
      "1\n",
      "4\n",
      "9\n"
     ]
    }
   ],
   "source": [
    "map_a = [1,2,3]\n",
    "map_b = [4,5,6]\n",
    "def square(x):\n",
    "    return x**2\n",
    "map_c = map(square,map_a)\n",
    "for i in map_c:\n",
    "    print(i)"
   ]
  },
  {
   "cell_type": "code",
   "execution_count": 11,
   "metadata": {},
   "outputs": [
    {
     "name": "stdout",
     "output_type": "stream",
     "text": [
      "4\n",
      "10\n",
      "18\n"
     ]
    }
   ],
   "source": [
    "map_a = [1,2,3]\n",
    "map_b = [4,5,6]\n",
    "def square(x,y):\n",
    "    return x*y\n",
    "map_c = map(square,map_a,map_b)\n",
    "for i in map_c:\n",
    "    print(i)"
   ]
  },
  {
   "cell_type": "markdown",
   "metadata": {},
   "source": [
    "## max()"
   ]
  },
  {
   "cell_type": "markdown",
   "metadata": {},
   "source": [
    "**max(iterable,key,default)**\n",
    "\n",
    "1. 简介\n",
    "    \n",
    "    返回可迭代对象中最大的元素，或者返回两个及以上实参中最大的。\n",
    "        * 如果有多个最大元素，则此函数将返回第一个找到的\n",
    "2. 输入\n",
    "    * iterable 迭代器\n",
    "    * key (可选参数)其为一个函数，用来指定取最大值的方法\n",
    "    * default (可选参数)迭代对象为空时，必须指定参数default，用来返回默认值\n",
    "3. 返回\n",
    "    * 最大值参数\n",
    "    "
   ]
  },
  {
   "cell_type": "code",
   "execution_count": 35,
   "metadata": {},
   "outputs": [
    {
     "name": "stdout",
     "output_type": "stream",
     "text": [
      "[2, 5]\n",
      "3\n",
      "{'name': 'first', 'age': 23, 'height': 170}\n"
     ]
    }
   ],
   "source": [
    "print(max([1,3],[2,5]))\n",
    "max_a = max([1,2,3])\n",
    "print(max_a)\n",
    "max_b = [{\"name\":\"first\",\"age\":23,\"height\":170},{\"name\":\"second\",\"age\":33,\"height\":165},{\"name\":\"third\",\"age\":15,\"height\":170}]\n",
    "print(max(max_b, key=lambda x:x[\"height\"]))"
   ]
  },
  {
   "cell_type": "code",
   "execution_count": 34,
   "metadata": {},
   "outputs": [
    {
     "name": "stdout",
     "output_type": "stream",
     "text": [
      "1\n"
     ]
    },
    {
     "ename": "ValueError",
     "evalue": "max() arg is an empty sequence",
     "output_type": "error",
     "traceback": [
      "\u001b[0;31m---------------------------------------------------------------------------\u001b[0m",
      "\u001b[0;31mValueError\u001b[0m                                Traceback (most recent call last)",
      "\u001b[0;32m<ipython-input-34-1cc10ea91576>\u001b[0m in \u001b[0;36m<module>\u001b[0;34m\u001b[0m\n\u001b[1;32m      1\u001b[0m \u001b[0mprint\u001b[0m\u001b[0;34m(\u001b[0m\u001b[0mmax\u001b[0m\u001b[0;34m(\u001b[0m\u001b[0;34m(\u001b[0m\u001b[0;34m)\u001b[0m\u001b[0;34m,\u001b[0m\u001b[0mdefault\u001b[0m\u001b[0;34m=\u001b[0m\u001b[0;36m1\u001b[0m\u001b[0;34m)\u001b[0m\u001b[0;34m)\u001b[0m\u001b[0;31m# 3、传入可迭代对象为空时，必须指定参数default，用来返回默认值\u001b[0m\u001b[0;34m\u001b[0m\u001b[0;34m\u001b[0m\u001b[0m\n\u001b[0;32m----> 2\u001b[0;31m \u001b[0mprint\u001b[0m\u001b[0;34m(\u001b[0m\u001b[0mmax\u001b[0m\u001b[0;34m(\u001b[0m\u001b[0;34m(\u001b[0m\u001b[0;34m)\u001b[0m\u001b[0;34m)\u001b[0m\u001b[0;34m)\u001b[0m\u001b[0;31m#报错\u001b[0m\u001b[0;34m\u001b[0m\u001b[0;34m\u001b[0m\u001b[0m\n\u001b[0m",
      "\u001b[0;31mValueError\u001b[0m: max() arg is an empty sequence"
     ]
    }
   ],
   "source": [
    "print(max((),default=1))# 3、传入可迭代对象为空时，必须指定参数default，用来返回默认值\n",
    "print(max(()))#报错"
   ]
  },
  {
   "cell_type": "markdown",
   "metadata": {},
   "source": [
    "## min()"
   ]
  },
  {
   "cell_type": "markdown",
   "metadata": {},
   "source": [
    "**min(iterable,key,default)**\n",
    "\n",
    "1. 简介\n",
    "    \n",
    "    返回可迭代对象中最小的元素，或者返回两个及以上实参中最小的。\n",
    "        * 如果有多个最小元素，则此函数将返回第一个找到的\n",
    "2. 输入\n",
    "    * iterable 迭代器\n",
    "    * key (可选参数)其为一个函数，用来指定取最小值的方法\n",
    "    * default (可选参数)迭代对象为空时，必须指定参数default，用来返回默认值\n",
    "3. 返回\n",
    "    * 最小值参数"
   ]
  },
  {
   "cell_type": "code",
   "execution_count": 36,
   "metadata": {},
   "outputs": [
    {
     "name": "stdout",
     "output_type": "stream",
     "text": [
      "[1, 3]\n",
      "1\n",
      "{'name': 'second', 'age': 33, 'height': 165}\n"
     ]
    }
   ],
   "source": [
    "print(min([1,3],[2,5]))\n",
    "min_a = min([1,2,3])\n",
    "print(min_a)\n",
    "min_b = [{\"name\":\"first\",\"age\":23,\"height\":170},{\"name\":\"second\",\"age\":33,\"height\":165},{\"name\":\"third\",\"age\":15,\"height\":170}]\n",
    "print(min(min_b, key=lambda x:x[\"height\"]))"
   ]
  },
  {
   "cell_type": "code",
   "execution_count": 37,
   "metadata": {},
   "outputs": [
    {
     "name": "stdout",
     "output_type": "stream",
     "text": [
      "1\n"
     ]
    },
    {
     "ename": "ValueError",
     "evalue": "min() arg is an empty sequence",
     "output_type": "error",
     "traceback": [
      "\u001b[0;31m---------------------------------------------------------------------------\u001b[0m",
      "\u001b[0;31mValueError\u001b[0m                                Traceback (most recent call last)",
      "\u001b[0;32m<ipython-input-37-379b76ec85b4>\u001b[0m in \u001b[0;36m<module>\u001b[0;34m\u001b[0m\n\u001b[1;32m      1\u001b[0m \u001b[0mprint\u001b[0m\u001b[0;34m(\u001b[0m\u001b[0mmin\u001b[0m\u001b[0;34m(\u001b[0m\u001b[0;34m(\u001b[0m\u001b[0;34m)\u001b[0m\u001b[0;34m,\u001b[0m\u001b[0mdefault\u001b[0m\u001b[0;34m=\u001b[0m\u001b[0;36m1\u001b[0m\u001b[0;34m)\u001b[0m\u001b[0;34m)\u001b[0m\u001b[0;31m# 3、传入可迭代对象为空时，必须指定参数default，用来返回默认值\u001b[0m\u001b[0;34m\u001b[0m\u001b[0;34m\u001b[0m\u001b[0m\n\u001b[0;32m----> 2\u001b[0;31m \u001b[0mprint\u001b[0m\u001b[0;34m(\u001b[0m\u001b[0mmin\u001b[0m\u001b[0;34m(\u001b[0m\u001b[0;34m(\u001b[0m\u001b[0;34m)\u001b[0m\u001b[0;34m)\u001b[0m\u001b[0;34m)\u001b[0m\u001b[0;31m#报错\u001b[0m\u001b[0;34m\u001b[0m\u001b[0;34m\u001b[0m\u001b[0m\n\u001b[0m",
      "\u001b[0;31mValueError\u001b[0m: min() arg is an empty sequence"
     ]
    }
   ],
   "source": [
    "print(min((),default=1))# 3、传入可迭代对象为空时，必须指定参数default，用来返回默认值\n",
    "print(min(()))#报错"
   ]
  },
  {
   "cell_type": "markdown",
   "metadata": {},
   "source": [
    "## next()"
   ]
  },
  {
   "cell_type": "markdown",
   "metadata": {},
   "source": [
    "**next(iterable,default)*\n",
    "1. 简介\n",
    "\n",
    "    返回迭代器的下一个项目\n",
    "2. 输入\n",
    "    * iterable 可迭代对象\n",
    "    * default  可选参数，用于设置在没有下一个元素时返回该默认值，如果不设置，又没有下一个元素则会触发 StopIteration 异常。\n",
    "3. 输出\n",
    "    * 迭代器的下一个项目\n",
    "   "
   ]
  },
  {
   "cell_type": "code",
   "execution_count": 38,
   "metadata": {},
   "outputs": [
    {
     "name": "stdout",
     "output_type": "stream",
     "text": [
      "1\n",
      "2\n",
      "3\n",
      "4\n",
      "5\n"
     ]
    }
   ],
   "source": [
    "# 首先获得Iterator对象:\n",
    "it = iter([1,2,3,4,5])\n",
    "\n",
    "# 循环:\n",
    "while True:\n",
    "    try:\n",
    "        # 获得下一个值:\n",
    "        x = next(it)\n",
    "        print(x)\n",
    "    except StopIteration:\n",
    "        break\n",
    "    # 遇到StopIteration就退出循环"
   ]
  },
  {
   "cell_type": "code",
   "execution_count": 46,
   "metadata": {},
   "outputs": [
    {
     "name": "stdout",
     "output_type": "stream",
     "text": [
      "1\n",
      "2\n",
      "默认值\n",
      "默认值\n"
     ]
    }
   ],
   "source": [
    "iter2 = iter([1,2])\n",
    "print(next(iter2,\"默认值\"))\n",
    "print(next(iter2,\"默认值\"))\n",
    "print(next(iter2,\"默认值\"))\n",
    "print(next(iter2,\"默认值\"))"
   ]
  },
  {
   "cell_type": "markdown",
   "metadata": {},
   "source": [
    "## object"
   ]
  },
  {
   "cell_type": "markdown",
   "metadata": {},
   "source": [
    "返回一个没有特征的新对象。object 是所有类的基类。\n",
    "它具有所有 Python 类实例的通用方法。这个函数不接受任何实参。\n",
    "注解 由于 object 没有 __dict__，因此无法将任意属性赋给 object 的实例。"
   ]
  },
  {
   "cell_type": "markdown",
   "metadata": {},
   "source": [
    "##  oct()"
   ]
  },
  {
   "cell_type": "markdown",
   "metadata": {},
   "source": [
    "**oct(x)**\n",
    "1. 简介\n",
    "    * 将整数转换成8进制，以字符串形式表示\n",
    "2. 输入\n",
    "    * x 十进制数\n",
    "    * 如果 x 不是 Python int 对象，则必须定义返回整数的 __index__() 方法.\n",
    "3. 输出\n",
    "    * 对应的8进制字符串"
   ]
  },
  {
   "cell_type": "code",
   "execution_count": 48,
   "metadata": {},
   "outputs": [
    {
     "name": "stdout",
     "output_type": "stream",
     "text": [
      "0o377\n",
      "-0o31\n"
     ]
    }
   ],
   "source": [
    "print(oct(255))\n",
    "print(oct(-25))"
   ]
  },
  {
   "cell_type": "code",
   "execution_count": 52,
   "metadata": {},
   "outputs": [
    {
     "name": "stdout",
     "output_type": "stream",
     "text": [
      "0o377\n",
      "377\n",
      "0o377 377\n"
     ]
    }
   ],
   "source": [
    "# 使用format转8进制.可去掉前缀0o\n",
    "print(format(255,\"#o\"))\n",
    "print(format(255,\"o\"))\n",
    "print('%#o' % 255, '%o' % 255)"
   ]
  },
  {
   "cell_type": "markdown",
   "metadata": {},
   "source": [
    "## open()"
   ]
  },
  {
   "cell_type": "markdown",
   "metadata": {},
   "source": [
    "**open(name, mode, buffering)**\n",
    "1. 简介\n",
    "    读写文件使用\n",
    "    "
   ]
  },
  {
   "cell_type": "code",
   "execution_count": 53,
   "metadata": {},
   "outputs": [],
   "source": [
    "# todo 分数文件读写模块"
   ]
  },
  {
   "cell_type": "markdown",
   "metadata": {},
   "source": [
    "## ord()"
   ]
  },
  {
   "cell_type": "markdown",
   "metadata": {},
   "source": [
    "**ord(x)**\n",
    "1. 简介\n",
    "    \n",
    "    对表示单个 Unicode 字符的字符串，返回代表它 Unicode 码点的整数。\n",
    "        * 是chr()的逆函数\n",
    "2. 输入\n",
    "    * x: 单个 Unicode 字符\n",
    "3. 返回\n",
    "     * Unicode 字符对应的十进制整数"
   ]
  },
  {
   "cell_type": "code",
   "execution_count": 56,
   "metadata": {},
   "outputs": [
    {
     "data": {
      "text/plain": [
       "8364"
      ]
     },
     "execution_count": 56,
     "metadata": {},
     "output_type": "execute_result"
    }
   ],
   "source": [
    "ord(\"€\")"
   ]
  },
  {
   "cell_type": "markdown",
   "metadata": {},
   "source": [
    "## pow()"
   ]
  },
  {
   "cell_type": "markdown",
   "metadata": {},
   "source": [
    "**pow(base,exp,mod)**\n",
    "1. 简介\n",
    "\n",
    "    返回 base 的 exp 次幂；如果 mod 存在，则返回 base 的 exp 次幂对 mod 取余\n",
    "    * 两参数形式 pow(base, exp) 等价于乘方运算符: base**exp\n",
    "    * pow(base, exp) % mod 更高效）\n",
    "2. 输入\n",
    "    * base:数值表达式\n",
    "    * exp:数值表达式\n",
    "    * mod:数值表达式\n",
    "3. 返回\n",
    "    结果"
   ]
  },
  {
   "cell_type": "code",
   "execution_count": 61,
   "metadata": {},
   "outputs": [
    {
     "data": {
      "text/plain": [
       "23"
      ]
     },
     "execution_count": 61,
     "metadata": {},
     "output_type": "execute_result"
    }
   ],
   "source": [
    "pow(38, -1, mod=97)"
   ]
  },
  {
   "cell_type": "markdown",
   "metadata": {},
   "source": [
    "## print()"
   ]
  },
  {
   "cell_type": "markdown",
   "metadata": {},
   "source": [
    "**print(*objects, sep=' ', end='\\n', file=sys.stdout, flush=False)**\n",
    "1. 简介\n",
    "    输出打印\n",
    "2. 输入\n",
    "    * objects : 复数，表示可以一次输出多个对象。输出多个对象时，需要用 , 分隔。\n",
    "    * sep : 用来间隔多个对象，默认值是一个空格。\n",
    "    * end : 用来设定以什么结尾。默认值是换行符 \\n，我们可以换成其他字符串。\n",
    "    * file : 要写入的文件对象。\n",
    "    * flush : 输出是否被缓存通常决定于 file，但如果 flush 关键字参数为 True，流会被强制刷新\n",
    "3. 返回\n",
    "    无"
   ]
  },
  {
   "cell_type": "code",
   "execution_count": 1,
   "metadata": {},
   "outputs": [
    {
     "name": "stdout",
     "output_type": "stream",
     "text": [
      "www.baidu.com********end**\n",
      "hello\n"
     ]
    }
   ],
   "source": [
    "print(\"www\",\"baidu\",\"com\",sep=\".\",end=\"********end**\\n\")\n",
    "print(\"hello\")"
   ]
  },
  {
   "cell_type": "code",
   "execution_count": 2,
   "metadata": {},
   "outputs": [
    {
     "name": "stdout",
     "output_type": "stream",
     "text": [
      "0\n",
      "1\n",
      "2\n",
      "3\n",
      "4\n",
      "5\n",
      "6\n",
      "7\n",
      "8\n",
      "9\n",
      "10\n",
      "11\n",
      "12\n",
      "13\n",
      "14\n",
      "15\n",
      "16\n",
      "17\n",
      "18\n",
      "19\n"
     ]
    }
   ],
   "source": [
    "file_print = open(\"print_file_test.txt\",\"w\")\n",
    "import time\n",
    "for i in range(20):\n",
    "    # 如果没有flush为True,则会把输出先放到缓存，输出完后才会写到文件\n",
    "    # 把file 重定向到file\n",
    "    print(\"print test%s\"%(i),file=file_print,flush=True)\n",
    "    print(i)\n",
    "    time.sleep(1)\n",
    "file_print.close()"
   ]
  },
  {
   "cell_type": "code",
   "execution_count": 3,
   "metadata": {},
   "outputs": [],
   "source": [
    "# 重定向修改输出\n",
    "import sys\n",
    "sys_stdout = sys.stdout # 保存输出管道\n",
    "file_print = open(\"print_file_test.txt\",\"w\")\n",
    "sys.stdout = file_print # 输出重定向\n",
    "print(\"输出重定向\")\n",
    "sys.stdout = sys_stdout #还原 原来的输出通道\n",
    "file_print.close()"
   ]
  },
  {
   "cell_type": "markdown",
   "metadata": {},
   "source": [
    "## property() \n",
    "todo"
   ]
  },
  {
   "cell_type": "markdown",
   "metadata": {},
   "source": [
    "**property(fget=None, fset=None, fdel=None, doc=None)**"
   ]
  },
  {
   "cell_type": "code",
   "execution_count": 4,
   "metadata": {},
   "outputs": [],
   "source": [
    "class C(object):\n",
    "    def __init__(self):\n",
    "        self._x = None\n",
    " \n",
    "    def getx(self):\n",
    "        return self._x\n",
    " \n",
    "    def setx(self, value):\n",
    "        self._x = value\n",
    " \n",
    "    def delx(self):\n",
    "        del self._x\n",
    " \n",
    "    x = property(getx, setx, delx, \"I'm the 'x' property.\")"
   ]
  },
  {
   "cell_type": "markdown",
   "metadata": {},
   "source": [
    "## range()"
   ]
  },
  {
   "cell_type": "code",
   "execution_count": 6,
   "metadata": {},
   "outputs": [
    {
     "name": "stderr",
     "output_type": "stream",
     "text": [
      "/home/zhangmeng/anaconda3/lib/python3.7/site-packages/ipykernel_launcher.py:1: DeprecationWarning: Using or importing the ABCs from 'collections' instead of from 'collections.abc' is deprecated, and in 3.8 it will stop working\n",
      "  \"\"\"Entry point for launching an IPython kernel.\n"
     ]
    },
    {
     "data": {
      "text/plain": [
       "True"
      ]
     },
     "execution_count": 6,
     "metadata": {},
     "output_type": "execute_result"
    }
   ],
   "source": [
    "from collections import Iterable\n",
    "isinstance(range(2),Iterable)"
   ]
  },
  {
   "cell_type": "markdown",
   "metadata": {},
   "source": [
    "**range(start, stop[, step])**\n",
    "1. 简介\n",
    "    返回一个range对象（可迭代对象）,一般和for连用\n",
    "        *start包括，但是不包括stop\n",
    "2. 输入\n",
    "    * start: 计数从 start 开始。默认是从 0 开始。例如range（5）等价于range（0， 5）;\n",
    "    * stop: 计数到 stop 结束(可选参数)，但不包括 stop。例如：range（0， 5） 是[0, 1, 2, 3, 4]没有5\n",
    "    * step：步长（可选参数），默认为1。例如：range（0， 5） 等价于 range(0, 5, 1)\n",
    "3. 返回\n",
    "    返回一个range对象"
   ]
  },
  {
   "cell_type": "code",
   "execution_count": 11,
   "metadata": {},
   "outputs": [
    {
     "name": "stdout",
     "output_type": "stream",
     "text": [
      "1\n",
      "3\n",
      "5\n"
     ]
    }
   ],
   "source": [
    "for i in range(1,6,2):\n",
    "    print(i)"
   ]
  },
  {
   "cell_type": "markdown",
   "metadata": {},
   "source": [
    "## repr()"
   ]
  },
  {
   "cell_type": "markdown",
   "metadata": {},
   "source": [
    "**repr(object)**\n",
    "1. 简介\n",
    "    \n",
    "    返回包含一个对象的可打印表示形式的字符串。\n",
    "        * 类可以通过定义 __repr__() 方法来控制此函数为它的实例所返回的内容。\n",
    "2. 输入\n",
    "    * object 对象\n",
    "3. 返回\n",
    "    * 对象的 string 格式\n"
   ]
  },
  {
   "cell_type": "code",
   "execution_count": 12,
   "metadata": {},
   "outputs": [
    {
     "name": "stdout",
     "output_type": "stream",
     "text": [
      "{'runoob': 'runoob.com', 'google': 'google.com'}\n"
     ]
    }
   ],
   "source": [
    "repr_dict = {'runoob': 'runoob.com', 'google': 'google.com'}\n",
    "print(repr(repr_dict))"
   ]
  },
  {
   "cell_type": "markdown",
   "metadata": {},
   "source": [
    "## reversed()"
   ]
  },
  {
   "cell_type": "markdown",
   "metadata": {},
   "source": [
    "**reversed(seq)**\n",
    "1. 简介\n",
    "    \n",
    "    返回一个反向的 iterator\n",
    "2.  输入\n",
    "    * seq  tuple, string, list ，range 或其它对象\n",
    "        * seq 必须是一个具有 __reversed__() 方法的对象或者是支持该序列协议\n",
    "        * 具有从 0 开始的整数类型参数的 __len__() 方法和 __getitem__() 方法。\n",
    "3. 返回\n",
    "    \n",
    "    反向可迭代对象"
   ]
  },
  {
   "cell_type": "code",
   "execution_count": 19,
   "metadata": {},
   "outputs": [
    {
     "name": "stdout",
     "output_type": "stream",
     "text": [
      "['d', 'c', 'b', 'a']\n",
      "['b', 'o', 'o', 'n', 'u', 'R']\n",
      "[8, 7, 6, 5]\n",
      "[5, 3, 4, 2, 1]\n"
     ]
    }
   ],
   "source": [
    "str1 = \"abcd\"\n",
    "# 字符串\n",
    "print(list(reversed(str1)))\n",
    "seqTuple = ('R', 'u', 'n', 'o', 'o', 'b')\n",
    "print(list(reversed(seqTuple)))\n",
    " \n",
    "# range\n",
    "seqRange = range(5, 9)\n",
    "print(list(reversed(seqRange)))\n",
    " \n",
    "# 列表\n",
    "seqList = [1, 2, 4, 3, 5]\n",
    "print(list(reversed(seqList)))"
   ]
  },
  {
   "cell_type": "markdown",
   "metadata": {},
   "source": [
    "##  rount()"
   ]
  },
  {
   "cell_type": "markdown",
   "metadata": {},
   "source": [
    "**round( x [, n]  )**\n",
    "1. 简介\n",
    "    \n",
    "    浮点数x的四舍六入值（5看奇偶数），需要 高进度最好不要 使用\n",
    "        * 对于支持 round() 的内置类型，值会被舍入到最接近的 10 的负 ndigits 次幂的倍数；\n",
    "        * 如果与两个倍数的距离相等，则选择偶数 \n",
    "            * 因此，round(0.5) 和 round(-0.5) 均为 0 \n",
    "            * 而 round(1.5) 为 2。\n",
    "2. 输入\n",
    "    * x:浮点数\n",
    "    * n: (可选参数)默认为0，表示保留的小数点位数\n",
    "3. 返回\n"
   ]
  },
  {
   "cell_type": "code",
   "execution_count": 25,
   "metadata": {},
   "outputs": [
    {
     "name": "stdout",
     "output_type": "stream",
     "text": [
      "round(70.23456) :  70\n",
      "round(56.659,1) :  56.7\n",
      "round(80.264, 2) :  80.26\n",
      "round(100.000056, 3) :  100.0\n",
      "round(-100.000056, 3) :  -100.0\n",
      "round(0.5,0) 0.0\n",
      "round(1.5,0) 2.0\n"
     ]
    }
   ],
   "source": [
    "print (\"round(70.23456) : \", round(70.23456))\n",
    "print (\"round(56.659,1) : \", round(56.659,1))\n",
    "print (\"round(80.264, 2) : \", round(80.264, 2))\n",
    "print (\"round(100.000056, 3) : \", round(100.000056, 3))\n",
    "print (\"round(-100.000056, 3) : \", round(-100.000056, 3))\n",
    "# 保留时出现5，看奇偶\n",
    "print(\"round(0.5,0)\",round(0.5,0))\n",
    "print(\"round(1.5,0)\",round(1.5,0))"
   ]
  },
  {
   "cell_type": "markdown",
   "metadata": {},
   "source": [
    "## set()"
   ]
  },
  {
   "cell_type": "markdown",
   "metadata": {},
   "source": [
    "**set([iterable])**\n",
    "1. 简介\n",
    "    \n",
    "    创建一个无序不重复元素集\n",
    "        * 可进行关系测试。\n",
    "        * 删除重复数据。\n",
    "        * 计算交集、差集、并集等\n",
    "2. 输入\n",
    "    * iterable：可迭代对象(如string,list,tuple等)\n",
    "3. 返回\n",
    "    新的集合对象"
   ]
  },
  {
   "cell_type": "code",
   "execution_count": 33,
   "metadata": {},
   "outputs": [
    {
     "name": "stdout",
     "output_type": "stream",
     "text": [
      "{'a', 'c', 'b'}\n",
      "{1, 2, 3}\n",
      "{'a', 'b'}\n"
     ]
    }
   ],
   "source": [
    "print(set(\"abca\"))\n",
    "print(set([1,2,3,2]))\n",
    "print(set({\"a\":1,\"b\":2}))"
   ]
  },
  {
   "cell_type": "markdown",
   "metadata": {},
   "source": [
    "## setattr()"
   ]
  },
  {
   "cell_type": "markdown",
   "metadata": {},
   "source": [
    "**setattr(object, name, value)**\n",
    "1. 简介\n",
    "    \n",
    "    获取对象的属性值\n",
    "        * 例如，setattr(x, 'foobar', 123) 等价于 x.foobar = 123\n",
    "2. 输入\n",
    "    * object 要添加属性的对象\n",
    "    * name 要添加的属性的名称\n",
    "    * value 要添加的属性的值\n",
    "3. 输出\n",
    "    无"
   ]
  },
  {
   "cell_type": "code",
   "execution_count": 38,
   "metadata": {},
   "outputs": [
    {
     "name": "stdout",
     "output_type": "stream",
     "text": [
      "setattr前 1\n",
      "setattr后 100\n"
     ]
    }
   ],
   "source": [
    "class A(object):\n",
    "    bar = 1\n",
    "setattr_a =A()\n",
    "print(\"setattr前\",getattr(setattr_a,\"bar\"))\n",
    "setattr(setattr_a,\"bar\",100)\n",
    "print(\"setattr后\",getattr(setattr_a,\"bar\"))\n"
   ]
  },
  {
   "cell_type": "markdown",
   "metadata": {},
   "source": [
    "## slice()"
   ]
  },
  {
   "cell_type": "markdown",
   "metadata": {},
   "source": [
    "**slice(start, stop[, step])**\n",
    "1. 简介\n",
    "    返回一个range对象（可迭代对象）\n",
    "        *start包括，但是不包括stop\n",
    "2. 输入\n",
    "    * start: 计数从 start 开始。默认是从 0 开始。\n",
    "    * stop: 计数到 stop 结束(可选参数)，但不包括 stop。\n",
    "    * step：步长（可选参数），默认为1。\n",
    "3. 返回\n",
    "    返回一个slice对象"
   ]
  },
  {
   "cell_type": "code",
   "execution_count": 45,
   "metadata": {},
   "outputs": [
    {
     "name": "stdout",
     "output_type": "stream",
     "text": [
      "a slice(None, 2, None)\n",
      "b[a] [1, 2]\n",
      "b[c] [1, 3]\n"
     ]
    }
   ],
   "source": [
    "a = slice(2)\n",
    "print(\"a\",a)\n",
    "b = [1,2,3,4]\n",
    "print(\"b[a]\",b[a])\n",
    "c = slice(0,-1,2)\n",
    "print(\"b[c]\",b[c])"
   ]
  },
  {
   "cell_type": "markdown",
   "metadata": {},
   "source": [
    "## sorted()"
   ]
  },
  {
   "cell_type": "markdown",
   "metadata": {},
   "source": [
    "**sorted(iterable, key=None, reverse=False)**\n",
    "\n",
    "1. 简介\n",
    "    \n",
    "    返回可迭代对象的排序的列表\n",
    "2. 输入\n",
    "    * iterable 迭代器\n",
    "    * key (可选参数)其为一个函数，用来指定排序的方法\n",
    "    * reverse (可选参数) 如果设为 True，则每个列表元素将按反向顺序比较进行排序,默认为False\n",
    "3. 返回\n",
    "    * 排序后的列表"
   ]
  },
  {
   "cell_type": "code",
   "execution_count": 53,
   "metadata": {},
   "outputs": [
    {
     "name": "stdout",
     "output_type": "stream",
     "text": [
      "[1, 2, 3]\n",
      "[1, 2, 3]\n",
      "[3, 2, 1]\n"
     ]
    }
   ],
   "source": [
    "print(sorted([1,2,3]))\n",
    "print(sorted([1,2,3],reverse=False))\n",
    "print(sorted([1,2,3],reverse=True))"
   ]
  },
  {
   "cell_type": "code",
   "execution_count": 55,
   "metadata": {},
   "outputs": [
    {
     "name": "stdout",
     "output_type": "stream",
     "text": [
      "按照age排序××××××××××××××××\n",
      "{'name': 'second', 'age': 33, 'height': 165}\n",
      "{'name': 'first', 'age': 23, 'height': 170}\n",
      "{'name': 'third', 'age': 15, 'height': 170}\n",
      "按照height排序××××××××××××××××\n",
      "{'name': 'third', 'age': 15, 'height': 170}\n",
      "{'name': 'first', 'age': 23, 'height': 170}\n",
      "{'name': 'second', 'age': 33, 'height': 165}\n"
     ]
    }
   ],
   "source": [
    "sort_b = [{\"name\":\"first\",\"age\":23,\"height\":170},{\"name\":\"second\",\"age\":33,\"height\":165},{\"name\":\"third\",\"age\":15,\"height\":170}]\n",
    "print(\"按照age排序××××××××××××××××\")\n",
    "sort_c = sorted(sort_b, key=lambda x:x[\"height\"])\n",
    "for i in sort_c:\n",
    "    print(i)\n",
    "print(\"按照height排序××××××××××××××××\")\n",
    "sort_d = sorted(sort_b, key=lambda x:x[\"age\"])\n",
    "for i in sort_d:\n",
    "    print(i)"
   ]
  },
  {
   "cell_type": "markdown",
   "metadata": {},
   "source": [
    "## staticmethod()"
   ]
  },
  {
   "cell_type": "markdown",
   "metadata": {},
   "source": [
    "**@staticmethod***\n",
    "1. 简介 \n",
    "    将方法转换为静态方法。静态方法不会接收隐式的第一个参数。"
   ]
  },
  {
   "cell_type": "code",
   "execution_count": 61,
   "metadata": {},
   "outputs": [
    {
     "name": "stdout",
     "output_type": "stream",
     "text": [
      "runoob\n",
      "runoob\n",
      "i'm g\n"
     ]
    },
    {
     "ename": "TypeError",
     "evalue": "g() takes 0 positional arguments but 1 was given",
     "output_type": "error",
     "traceback": [
      "\u001b[0;31m---------------------------------------------------------------------------\u001b[0m",
      "\u001b[0;31mTypeError\u001b[0m                                 Traceback (most recent call last)",
      "\u001b[0;32m<ipython-input-61-4f2e93189971>\u001b[0m in \u001b[0;36m<module>\u001b[0;34m\u001b[0m\n\u001b[1;32m     11\u001b[0m \u001b[0;34m\u001b[0m\u001b[0m\n\u001b[1;32m     12\u001b[0m \u001b[0mC\u001b[0m\u001b[0;34m.\u001b[0m\u001b[0mg\u001b[0m\u001b[0;34m(\u001b[0m\u001b[0;34m)\u001b[0m\u001b[0;34m\u001b[0m\u001b[0;34m\u001b[0m\u001b[0m\n\u001b[0;32m---> 13\u001b[0;31m \u001b[0mcobj\u001b[0m\u001b[0;34m.\u001b[0m\u001b[0mg\u001b[0m\u001b[0;34m(\u001b[0m\u001b[0;34m)\u001b[0m \u001b[0;31m#会报错\u001b[0m\u001b[0;34m\u001b[0m\u001b[0;34m\u001b[0m\u001b[0m\n\u001b[0m",
      "\u001b[0;31mTypeError\u001b[0m: g() takes 0 positional arguments but 1 was given"
     ]
    }
   ],
   "source": [
    "class C(object):\n",
    "    @staticmethod\n",
    "    def f():\n",
    "        print('runoob');\n",
    "    def g():\n",
    "        print(\"i'm g\")\n",
    " \n",
    "C.f();          # 静态方法无需实例化，不添加 @staticmethod可调用\n",
    "cobj = C()\n",
    "cobj.f()        # 也可以实例化后调用，不添加 @staticmethod实例对象不可调用\n",
    "\n",
    "C.g()\n",
    "cobj.g() #会报错"
   ]
  },
  {
   "cell_type": "markdown",
   "metadata": {},
   "source": [
    "## str()"
   ]
  },
  {
   "cell_type": "markdown",
   "metadata": {},
   "source": [
    "**str(object=b'', encoding='utf-8', errors='strict')**\n",
    "1. 简介\n",
    "    \n",
    "    将对象转为str类型\n",
    "        * 如果 encoding 或 errors 均未给出，str(object) 返回 object.__str__()，这是 object 的“非正式”或格式良好的字符串表示。\n",
    "        * 对于字符串对象，这是该字符串本身。 如果 object 没有 __str__() 方法，则 str() 将回退为返回 repr(object)。\n",
    "    \n",
    "    \n",
    "    如果 encoding 或 errors 至少给出其中之一，\n",
    "        * 则 object 应该是一个 bytes-like object (例如 bytes 或 bytearray)。 在此情况下，如果 object 是一个 bytes (或 bytearray) 对象，则 str(bytes, encoding, errors) 等价于 bytes.decode(encoding, errors)。 \n",
    "        * 否则的话，会在调用 bytes.decode() 之前获取缓冲区对象下层的 bytes 对象。\n",
    "2. 输入\n",
    "    * object : 对象\n",
    "    * encoding : 编码格式\n",
    "    * errors : 设置不同错误的处理方案。默认为 'strict',意为编码错误引起一个UnicodeError。 其他可能得值有 'ignore', 'replace', 'xmlcharrefreplace', 'backslashreplace' 以及通过 codecs.register_error() 注册的任何值。\n",
    "3. 返回\n",
    "    str 对象"
   ]
  },
  {
   "cell_type": "markdown",
   "metadata": {},
   "source": [
    "## sum()"
   ]
  },
  {
   "cell_type": "markdown",
   "metadata": {},
   "source": [
    "**sum(iterable[, start])**\n",
    "1. 简介\n",
    "    对iterable求和运算\n",
    "2. 输入参数\n",
    "    * iterable:求和迭代器\n",
    "    * start 可选参数，(默认为0)前面迭代器求和后，加上start\n",
    "3. 返回　\n",
    "    * 求和结果"
   ]
  },
  {
   "cell_type": "code",
   "execution_count": 73,
   "metadata": {},
   "outputs": [
    {
     "name": "stdout",
     "output_type": "stream",
     "text": [
      "25\n",
      "3\n"
     ]
    }
   ],
   "source": [
    "print(sum([1,2,3,4,5],10))\n",
    "print(sum([1,2]))"
   ]
  },
  {
   "cell_type": "markdown",
   "metadata": {},
   "source": [
    "## super()\n",
    "todo"
   ]
  },
  {
   "cell_type": "markdown",
   "metadata": {},
   "source": [
    "## tuple()"
   ]
  },
  {
   "cell_type": "markdown",
   "metadata": {},
   "source": [
    "**tuple(iterable)**\n",
    "1. 简介\n",
    "    \n",
    "    将可迭代系列（如列表）转换为元组,元组为不可变类型　\n",
    "2. 输入\n",
    "    iterable　可迭代对象　\n",
    "3. 返回\n",
    "    * 元组"
   ]
  },
  {
   "cell_type": "code",
   "execution_count": 74,
   "metadata": {},
   "outputs": [
    {
     "name": "stdout",
     "output_type": "stream",
     "text": [
      "('Google', 'Taobao', 'Runoob', 'Baidu')\n"
     ]
    }
   ],
   "source": [
    "list1= ['Google', 'Taobao', 'Runoob', 'Baidu']\n",
    "tuple1=tuple(list1)\n",
    "print(tuple1)"
   ]
  },
  {
   "cell_type": "markdown",
   "metadata": {},
   "source": [
    "## typle()"
   ]
  },
  {
   "cell_type": "markdown",
   "metadata": {},
   "source": [
    "**type(object)**\n",
    "    \n",
    "    1. 简介\n",
    "        * 传入一个参数时，返回 object 的类型。 \n",
    "    2. 输入\n",
    "        * object:对象\n",
    "    3. 返回返回值是一个 type 对象，通常与 object.__class__ 所返回的对象相同。\n",
    "**type(name, bases, dict)**\n",
    "    \n",
    "    1. 简介\n",
    "        * 返回新的类型对象\n",
    "         传入三个参数时，返回一个新的 type 对象。 这在本质上是 class 语句的一种动态形式。 name 字符串即类名并且会成为 __name__ 属性；bases 元组列出基类并且会成为 __bases__ 属性；而 dict 字典为包含类主体定义的命名空间并且会被复制到一个标准字典成为 __dict__ 属性\n",
    "    2. 输入\n",
    "        name ： 类的名称。\n",
    "        bases ： 基类的元组。\n",
    "        dict ： 字典，类内定义的命名空间变量。\n",
    "     3.返回\n",
    "         创建的新的类\n",
    "   "
   ]
  },
  {
   "cell_type": "code",
   "execution_count": 76,
   "metadata": {},
   "outputs": [
    {
     "data": {
      "text/plain": [
       "int"
      ]
     },
     "execution_count": 76,
     "metadata": {},
     "output_type": "execute_result"
    }
   ],
   "source": [
    "type(1)"
   ]
  },
  {
   "cell_type": "code",
   "execution_count": 80,
   "metadata": {},
   "outputs": [
    {
     "data": {
      "text/plain": [
       "3"
      ]
     },
     "execution_count": 80,
     "metadata": {},
     "output_type": "execute_result"
    }
   ],
   "source": [
    "class X:\n",
    "    a = 1\n",
    "X = type('X', (object,), dict(a=1,b=3)) # 产生一个新的类型 X\n",
    "aa =X()\n",
    "aa.b"
   ]
  },
  {
   "cell_type": "markdown",
   "metadata": {},
   "source": [
    " ## vars()"
   ]
  },
  {
   "cell_type": "markdown",
   "metadata": {},
   "source": [
    "**vars(object)**\n",
    "\n",
    "1.　简介\n",
    "    对象object的属性和属性值的字典对象。\n",
    "    * 模块和实例这样的对象具有可更新的 __dict__ 属性；但是，其它对象的 __dict__ 属性可能会设为限制写入（例如，类会使用 types.MappingProxyType 来防止直接更新字典）。\n",
    "    * 不带参数时，vars() 的行为类似 locals()。 请注意，locals 字典仅对于读取起作用，因为对 locals 字典的更新会被忽略\n",
    "2. 输入\n",
    "    * object 如果object 为空,返回　类似locals()\n",
    "3. 返回\n",
    "    * 对象object的属性和属性值的字典对象。"
   ]
  },
  {
   "cell_type": "code",
   "execution_count": 83,
   "metadata": {},
   "outputs": [
    {
     "data": {
      "text/plain": [
       "mappingproxy({'__module__': '__main__',\n",
       "              'A': 2,\n",
       "              '__dict__': <attribute '__dict__' of 'vars_test' objects>,\n",
       "              '__weakref__': <attribute '__weakref__' of 'vars_test' objects>,\n",
       "              '__doc__': None})"
      ]
     },
     "execution_count": 83,
     "metadata": {},
     "output_type": "execute_result"
    }
   ],
   "source": [
    "class vars_test(object):\n",
    "    A=2\n",
    "vars_a = vars_test()\n",
    "vars(vars_test)"
   ]
  },
  {
   "cell_type": "markdown",
   "metadata": {},
   "source": [
    " ## zip()"
   ]
  },
  {
   "cell_type": "markdown",
   "metadata": {},
   "source": [
    "**zip(*iterables)**\n",
    "1. 简介\n",
    "    \n",
    "    创建一个聚合了来自每个可迭代对象中的元素的迭代器。\n",
    "2. 输入 一个　或多个迭代器\n",
    "    * *iterables 一个　或多个迭代器\n",
    "3.  返回\n",
    "    *  迭代器"
   ]
  },
  {
   "cell_type": "code",
   "execution_count": null,
   "metadata": {},
   "outputs": [],
   "source": [
    "#  相当于实现了如下代码的功能\n",
    "def zip(*iterables):\n",
    "    # zip('ABCD', 'xy') --> Ax By\n",
    "    sentinel = object()\n",
    "    iterators = [iter(it) for it in iterables]\n",
    "    while iterators:\n",
    "        result = []\n",
    "        for it in iterators:\n",
    "            elem = next(it, sentinel)\n",
    "            if elem is sentinel:\n",
    "                return\n",
    "            result.append(elem)\n",
    "        yield tuple(result)"
   ]
  },
  {
   "cell_type": "code",
   "execution_count": 95,
   "metadata": {},
   "outputs": [
    {
     "data": {
      "text/plain": [
       "[('a', 1), ('b', 2), ('c', 3)]"
      ]
     },
     "execution_count": 95,
     "metadata": {},
     "output_type": "execute_result"
    }
   ],
   "source": [
    "# 组合\n",
    "list(zip(['a', 'b', 'c',\"d\"], [1, 2, 3])) "
   ]
  },
  {
   "cell_type": "code",
   "execution_count": 90,
   "metadata": {},
   "outputs": [
    {
     "name": "stdout",
     "output_type": "stream",
     "text": [
      "('a', 'b', 'c')\n",
      "(1, 2, 3)\n"
     ]
    }
   ],
   "source": [
    "# 拆分为多个元祖\n",
    "some_list = [('a', 1), ('b', 2), ('c', 3)]\n",
    "letters, nums = zip(*some_list)\n",
    "print(letters)\n",
    "print(nums)\n",
    "#结果\n",
    "# letters: ('a', 'b', 'c')\n",
    "# nums: (1, 2, 3)"
   ]
  },
  {
   "cell_type": "code",
   "execution_count": 101,
   "metadata": {},
   "outputs": [
    {
     "data": {
      "text/plain": [
       "[(0, 3, 6, 9), (1, 4, 7, 10), (2, 5, 8, 11)]"
      ]
     },
     "execution_count": 101,
     "metadata": {},
     "output_type": "execute_result"
    }
   ],
   "source": [
    " # 将 data 从 4x3 矩阵转置成 3x4 矩阵。\n",
    "\n",
    "data = ((0, 1, 2), (3, 4, 5), (6, 7, 8), (9, 10, 11))\n",
    "\n",
    "data_transpose = zip(*data)\n",
    "\n",
    "# 结果:\n",
    "[(0, 3, 6, 9), (1, 4, 7, 10), (2, 5, 8, 11)]"
   ]
  },
  {
   "cell_type": "markdown",
   "metadata": {},
   "source": [
    "## __import__()"
   ]
  },
  {
   "cell_type": "markdown",
   "metadata": {},
   "source": [
    "**__import__(name[, globals[, locals[, fromlist[, level]]]])**\n",
    "1. 简介\n",
    "    \n",
    "    函数用于动态加载类和函数\n",
    "2. 输入\n",
    "    * name:模块名\n",
    "3. 返回\n",
    "    *元祖列表"
   ]
  },
  {
   "cell_type": "code",
   "execution_count": 105,
   "metadata": {},
   "outputs": [
    {
     "ename": "TypeError",
     "evalue": "__import__() missing required argument 'name' (pos 1)",
     "output_type": "error",
     "traceback": [
      "\u001b[0;31m---------------------------------------------------------------------------\u001b[0m",
      "\u001b[0;31mTypeError\u001b[0m                                 Traceback (most recent call last)",
      "\u001b[0;32m<ipython-input-105-c810389a443b>\u001b[0m in \u001b[0;36m<module>\u001b[0;34m\u001b[0m\n\u001b[0;32m----> 1\u001b[0;31m \u001b[0m__import__\u001b[0m\u001b[0;34m(\u001b[0m\u001b[0;34m)\u001b[0m\u001b[0;34m\u001b[0m\u001b[0;34m\u001b[0m\u001b[0m\n\u001b[0m",
      "\u001b[0;31mTypeError\u001b[0m: __import__() missing required argument 'name' (pos 1)"
     ]
    }
   ],
   "source": []
  },
  {
   "cell_type": "code",
   "execution_count": null,
   "metadata": {},
   "outputs": [],
   "source": []
  }
 ],
 "metadata": {
  "kernelspec": {
   "display_name": "Python 3",
   "language": "python",
   "name": "python3"
  },
  "language_info": {
   "codemirror_mode": {
    "name": "ipython",
    "version": 3
   },
   "file_extension": ".py",
   "mimetype": "text/x-python",
   "name": "python",
   "nbconvert_exporter": "python",
   "pygments_lexer": "ipython3",
   "version": "3.8.3"
  }
 },
 "nbformat": 4,
 "nbformat_minor": 4
}
