{
 "cells": [
  {
   "cell_type": "markdown",
   "metadata": {},
   "source": [
    "# 内置函数"
   ]
  },
  {
   "cell_type": "markdown",
   "metadata": {},
   "source": [
    "## abs()"
   ]
  },
  {
   "cell_type": "markdown",
   "metadata": {},
   "source": [
    "**abs(x)**x可以为整数,浮点数,复数.\n",
    "\n",
    "返回一个数的绝对值。 参数可以是一个整数或浮点数或复数。\n",
    "* 整数或浮点数返回绝对值\n",
    "* 如果参数是一个复数，则返回它的模。 \n",
    "* 如果 x 定义了 __abs__()，则 abs(x) 将返回 x.__abs__()。"
   ]
  },
  {
   "cell_type": "code",
   "execution_count": null,
   "metadata": {
    "pycharm": {
     "name": "#%%\n"
    }
   },
   "outputs": [],
   "source": [
    "print (\"整数 abs(-40) : \", abs(-40))\n",
    "print (\"浮点数 abs(100.10) : \", abs(100.10))\n",
    "print(\"复数 abs(3+4j):\",abs(3+4j))"
   ]
  },
  {
   "cell_type": "markdown",
   "metadata": {},
   "source": [
    "## all()"
   ]
  },
  {
   "cell_type": "markdown",
   "metadata": {},
   "source": [
    "**all(iterable)** 传入可迭代对象iterable\n",
    "\n",
    "如果 iterable 的所有元素均为真值（或可迭代对象为空）则返回 True 。 \n",
    "\n",
    "等价于:\n",
    "\n",
    "`\n",
    "def all(iterable):\n",
    "    for element in iterable:\n",
    "        if not element:\n",
    "            return False\n",
    "    return True\n",
    "`"
   ]
  },
  {
   "cell_type": "code",
   "execution_count": null,
   "metadata": {
    "pycharm": {
     "name": "#%%\n"
    }
   },
   "outputs": [],
   "source": [
    "print(all(['a', 'b', 'c', 'd']))  # 列表list，元素都不为空或0\n",
    "#True\n",
    "print(all(['a', 'b', '', 'd']))  # 列表list，存在一个为空的元素\n",
    "#False\n",
    "print(all([0, 1,2, 3]))         # 列表list，存在一个为0的元素\n",
    "#False\n",
    "print(all([])) #空列表\n",
    "#Ture"
   ]
  },
  {
   "cell_type": "markdown",
   "metadata": {},
   "source": [
    "## any()"
   ]
  },
  {
   "cell_type": "markdown",
   "metadata": {},
   "source": [
    "**any(iterable)** 传入可迭代对象iterable.\n",
    "\n",
    "如果 iterable 的任一元素为真值则返回 True。 如果可迭代对象为空，返回 False.\n",
    "\n",
    "等价于:\n",
    "\n",
    "`\n",
    "def any(iterable):\n",
    "    for element in iterable:\n",
    "        if element:\n",
    "            return True\n",
    "    return False\n",
    "`"
   ]
  },
  {
   "cell_type": "code",
   "execution_count": null,
   "metadata": {
    "pycharm": {
     "name": "#%%\n"
    }
   },
   "outputs": [],
   "source": [
    "print(any(['a', 'b', 'c', 'd']))  # 列表list，元素都不为空或0\n",
    "#True\n",
    "print(any(['a', 'b', '', 'd']))  # 列表list，存在一个为空的元素\n",
    "#True\n",
    "print(any([0, 1,2, 3]))         # 列表list，存在一个为0的元素\n",
    "#True\n",
    "print(any([0,0,0]))\n",
    "# False\n",
    "print(any([])) #空列表\n",
    "#False"
   ]
  },
  {
   "cell_type": "markdown",
   "metadata": {},
   "source": [
    "## ascii"
   ]
  },
  {
   "cell_type": "markdown",
   "metadata": {},
   "source": [
    "**ascii(object)**\n",
    "\n",
    "ascii() 函数类似 repr() 函数, 返回一个表示对象的字符串, 但是对于字符串中的非 ASCII 字符则返回通过 repr() 函数使用 \\x, \\u 或 \\U 编码的字符。\n",
    "* \\u：unicode 码一般其后跟 4 个 16 进制数\n",
    "* \\x: 是 16 进制的意思，后边跟两位，则表示单字节编码\n",
    "\n",
    "生成的字符串和 Python 2 的 repr() 返回的结果相似。"
   ]
  },
  {
   "cell_type": "code",
   "execution_count": 3,
   "metadata": {},
   "outputs": [
    {
     "name": "stdout",
     "output_type": "stream",
     "text": [
      "aaa: 'aaa'\n",
      "中国: '\\u4e2d\\u56fd'\n",
      "a中国: 'a\\u4e2d\\u56fd'\n",
      "'aaa'\n"
     ]
    }
   ],
   "source": [
    "print(\"aaa:\",ascii(\"aaa\"))\n",
    "print(\"中国:\",ascii(\"中国\"))\n",
    "print(\"a中国:\",ascii(\"a中国\"))"
   ]
  },
  {
   "cell_type": "markdown",
   "metadata": {},
   "source": [
    "## bin()"
   ]
  },
  {
   "cell_type": "markdown",
   "metadata": {},
   "source": [
    "**bin(x)**  x为int类型,或者定义了 __index__()方法返回整数的对象\n",
    "\n",
    "将一个整数转变为一个前缀为“0b”的二进制字符串。结果是一个合法的 Python 表达式。如果 x 不是 Python 的 int 对象，那它需要定义 __index__() 方法返回一个整数。"
   ]
  },
  {
   "cell_type": "code",
   "execution_count": 86,
   "metadata": {},
   "outputs": [
    {
     "name": "stdout",
     "output_type": "stream",
     "text": [
      "0b11\n",
      "-0b11\n"
     ]
    }
   ],
   "source": [
    "print(bin(3))\n",
    "print(bin(-3))"
   ]
  },
  {
   "cell_type": "code",
   "execution_count": 89,
   "metadata": {},
   "outputs": [
    {
     "name": "stdout",
     "output_type": "stream",
     "text": [
      "11\n",
      "0b11\n"
     ]
    }
   ],
   "source": [
    "print(format(3,\"b\")) # 转为二进制没有0b\n",
    "print(format(3,\"#b\")) #转为二进制有0b"
   ]
  },
  {
   "cell_type": "markdown",
   "metadata": {},
   "source": [
    "## bool()"
   ]
  },
  {
   "cell_type": "markdown",
   "metadata": {},
   "source": [
    "**bool(x)** x可以为int,float,list,str等类型\n",
    "* list,tuple,dict 等类型如果为空则为false,如果有数据则为False\n",
    "* \"\"(str), 0(int), 0.0(float) 为False\n",
    "* 注意的是**bool(\"False\")的结果为True"
   ]
  },
  {
   "cell_type": "code",
   "execution_count": 107,
   "metadata": {},
   "outputs": [
    {
     "name": "stdout",
     "output_type": "stream",
     "text": [
      "1 True\n",
      "2 False\n",
      "3 True\n",
      "4 False\n",
      "5 False\n"
     ]
    }
   ],
   "source": [
    "print(1,bool(\"False\"))\n",
    "print(2,bool(0))\n",
    "print(3,bool(1))\n",
    "print(4,bool(0.0))\n",
    "print(5,bool(\"\"))"
   ]
  },
  {
   "cell_type": "markdown",
   "metadata": {},
   "source": [
    "## breakpoint()\n",
    "todo"
   ]
  },
  {
   "cell_type": "markdown",
   "metadata": {},
   "source": [
    "## bytearray()\n",
    "todo"
   ]
  },
  {
   "cell_type": "markdown",
   "metadata": {},
   "source": [
    "## bytes()\n",
    "todo"
   ]
  },
  {
   "cell_type": "markdown",
   "metadata": {},
   "source": [
    "## callable()"
   ]
  },
  {
   "cell_type": "markdown",
   "metadata": {},
   "source": [
    "**callable(object)**\n",
    "如果参数 object 是可调用的就返回 True，否则返回 False。 如果返回 True，调用仍可能失败，但如果返回 False，则调用 object 将肯定不会成功。 请注意类是可调用的（调用类将返回一个新的实例）；如果实例所属的类有 __call__() 则它就是可调用的。"
   ]
  },
  {
   "cell_type": "markdown",
   "metadata": {},
   "source": [
    "object.__call__(self[, args...])¶\n",
    "此方法会在实例作为一个函数被“调用”时被调用；如果定义了此方法，则 x(arg1, arg2, ...) 就相当于 x.__call__(arg1, arg2, ...) 的快捷方式。"
   ]
  },
  {
   "cell_type": "code",
   "execution_count": 112,
   "metadata": {},
   "outputs": [
    {
     "name": "stdout",
     "output_type": "stream",
     "text": [
      "False\n",
      "False\n",
      "True\n",
      "True\n",
      "False\n",
      "True\n",
      "True\n"
     ]
    }
   ],
   "source": [
    "print(callable(0))\n",
    "# False\n",
    "print(callable(\"runoob\"))\n",
    "# False\n",
    "def add(a, b):\n",
    "    return a + b\n",
    "print(callable(add))             # 函数返回 True\n",
    "# True\n",
    "class A:                  # 类\n",
    "    def method(self):\n",
    "        return 0\n",
    "print(callable(A))               # 类返回 True\n",
    "# True\n",
    "a = A()\n",
    "print(callable(a))               # 没有实现 __call__, 返回 False\n",
    "# False\n",
    "class B:\n",
    "    def __call__(self):\n",
    "        return 0\n",
    "print(callable(B))\n",
    "# True\n",
    "b = B()\n",
    "print(callable(b))               # 实现 __call__, 返回 True\n",
    "# True"
   ]
  },
  {
   "cell_type": "markdown",
   "metadata": {},
   "source": [
    "## chr()"
   ]
  },
  {
   "cell_type": "markdown",
   "metadata": {},
   "source": [
    "**chr(i)**\n",
    "\n",
    "* 返回 Unicode 码位为整数 i 的字符的字符串格式\n",
    "* i -- 可以是 10 进制也可以是 16 进制的形式的数字，数字范围为 0 到 1,114,111 (16 进制为0x10FFFF),如果 i 超过这个范围，会触发 ValueError 异常。\n",
    "* 是ord()的逆函数"
   ]
  },
  {
   "cell_type": "code",
   "execution_count": 118,
   "metadata": {},
   "outputs": [
    {
     "name": "stdout",
     "output_type": "stream",
     "text": [
      "c\n",
      "€\n",
      "0\n",
      "8364\n"
     ]
    }
   ],
   "source": [
    "print(chr(99))\n",
    "print(chr(8364))\n",
    "print(chr(0x30)) #0x30为16进制数\n",
    "print(ord(\"€\")) #ord()的逆函数,后面有ord()介绍"
   ]
  },
  {
   "cell_type": "markdown",
   "metadata": {},
   "source": [
    "## classmethod()"
   ]
  },
  {
   "cell_type": "code",
   "execution_count": null,
   "metadata": {},
   "outputs": [],
   "source": [
    "**@classmethod** \n",
    "* 类函数中做为装饰器使用,一个类方法把类自己作为第一个实参(一般使用cls)，就像一个实例方法把实例自己作为第一个实参。\n",
    "* 这样不用实例化类,就可以调用函数"
   ]
  },
  {
   "cell_type": "code",
   "execution_count": 136,
   "metadata": {},
   "outputs": [
    {
     "name": "stdout",
     "output_type": "stream",
     "text": [
      "func2\n",
      "1\n",
      "foo\n",
      "func2\n",
      "1\n",
      "foo\n"
     ]
    }
   ],
   "source": [
    "class A(object):\n",
    "    bar = 1\n",
    "    def func1(self):  \n",
    "        print ('foo') \n",
    "    @classmethod\n",
    "    def func2(cls):\n",
    "        print ('func2')\n",
    "        print (cls.bar)\n",
    "        cls().func1()   # 调用 foo 方法\n",
    "    def func3(self):\n",
    "        print ('func2')\n",
    "        print (self.bar)\n",
    "        self().func1()   # 调用 foo 方法\n",
    "\n",
    "\n",
    "A.func2()               # 不需要实例化\n",
    "print(\"****\")\n",
    "# todo验证\n",
    "A.func3(A) # 猜测classmethod实现了,类似的原理,未验证,\n"
   ]
  },
  {
   "cell_type": "markdown",
   "metadata": {},
   "source": [
    "## compile()\n",
    "todo"
   ]
  },
  {
   "cell_type": "markdown",
   "metadata": {},
   "source": [
    "## complex()"
   ]
  },
  {
   "cell_type": "markdown",
   "metadata": {},
   "source": [
    "创建复数\n",
    "*  当从字符串转换时，字符串在 + 或 - 的周围必须不能有空格。例如 complex('1+2j') 是合法的，但 complex('1 + 2j') 会触发 ValueError 异常。"
   ]
  },
  {
   "cell_type": "code",
   "execution_count": 142,
   "metadata": {
    "scrolled": true
   },
   "outputs": [
    {
     "name": "stdout",
     "output_type": "stream",
     "text": [
      "(1+2j)\n",
      "(1.1+2j)\n",
      "(1+2j)\n"
     ]
    }
   ],
   "source": [
    "print(complex(1,2))\n",
    "print(complex(1.1,2))\n",
    "print(complex(\"1+2j\"))"
   ]
  },
  {
   "cell_type": "code",
   "execution_count": 145,
   "metadata": {},
   "outputs": [
    {
     "name": "stdout",
     "output_type": "stream",
     "text": [
      "1.0\n",
      "2.0\n"
     ]
    }
   ],
   "source": [
    "complex_a = complex(1,2)\n",
    "print(complex_a.real) # 实数部分\n",
    "print(complex_a.imag) # 虚数部分"
   ]
  },
  {
   "cell_type": "markdown",
   "metadata": {},
   "source": [
    "## delattr()"
   ]
  },
  {
   "cell_type": "markdown",
   "metadata": {},
   "source": [
    "**delattr(object,name)** \n",
    "\n",
    "object:对象，name:对象的属性名称\n",
    "\n",
    "delattr(x, 'foobar') 相等于 del x.foobar。"
   ]
  },
  {
   "cell_type": "code",
   "execution_count": 150,
   "metadata": {},
   "outputs": [
    {
     "name": "stdout",
     "output_type": "stream",
     "text": [
      "x =  10\n",
      "y =  -5\n",
      "z =  0\n",
      "--删除 z 属性后--\n",
      "x =  10\n",
      "y =  -5\n"
     ]
    },
    {
     "ename": "AttributeError",
     "evalue": "'Coordinate' object has no attribute 'z'",
     "output_type": "error",
     "traceback": [
      "\u001b[0;31m---------------------------------------------------------------------------\u001b[0m",
      "\u001b[0;31mAttributeError\u001b[0m                            Traceback (most recent call last)",
      "\u001b[0;32m<ipython-input-150-4313f8ed66e8>\u001b[0m in \u001b[0;36m<module>\u001b[0;34m\u001b[0m\n\u001b[1;32m     18\u001b[0m \u001b[0;34m\u001b[0m\u001b[0m\n\u001b[1;32m     19\u001b[0m \u001b[0;31m# 删除z后，使用ｚ触发错误\u001b[0m\u001b[0;34m\u001b[0m\u001b[0;34m\u001b[0m\u001b[0;34m\u001b[0m\u001b[0m\n\u001b[0;32m---> 20\u001b[0;31m \u001b[0mprint\u001b[0m\u001b[0;34m(\u001b[0m\u001b[0;34m'z = '\u001b[0m\u001b[0;34m,\u001b[0m\u001b[0mpoint1\u001b[0m\u001b[0;34m.\u001b[0m\u001b[0mz\u001b[0m\u001b[0;34m)\u001b[0m\u001b[0;34m\u001b[0m\u001b[0;34m\u001b[0m\u001b[0m\n\u001b[0m",
      "\u001b[0;31mAttributeError\u001b[0m: 'Coordinate' object has no attribute 'z'"
     ]
    }
   ],
   "source": [
    "# todo 判断属性是否有self的区别\n",
    "class Coordinate:\n",
    "    x = 10\n",
    "    y = -5\n",
    "    z = 0\n",
    " \n",
    "point1 = Coordinate() \n",
    " \n",
    "print('x = ',point1.x)\n",
    "print('y = ',point1.y)\n",
    "print('z = ',point1.z)\n",
    " \n",
    "delattr(Coordinate, 'z')\n",
    " \n",
    "print('--删除 z 属性后--')\n",
    "print('x = ',point1.x)\n",
    "print('y = ',point1.y)\n",
    " \n",
    "# 删除z后，使用ｚ触发错误\n",
    "print('z = ',point1.z)"
   ]
  },
  {
   "cell_type": "markdown",
   "metadata": {},
   "source": [
    "## dict()"
   ]
  },
  {
   "cell_type": "markdown",
   "metadata": {},
   "source": [
    "创建字典对象，详见字典模块"
   ]
  },
  {
   "cell_type": "markdown",
   "metadata": {},
   "source": [
    "## dir()"
   ]
  },
  {
   "cell_type": "markdown",
   "metadata": {},
   "source": [
    "**dir([object])** object 对象名称\n",
    "\n",
    "* 如果没有实参，则返回当前本地作用域中的名称列表。例:dir() \n",
    "* 如果有实参，它会尝试返回该对象的有效属性列表。例：dir(object1)或dir([object1])\n",
    "\n",
    "\n",
    "有实参的情况\n",
    "* 如果对象是模块对象，则列表包含模块的属性名称。\n",
    "* 如果对象是类型或类对象，则列表包含它们的属性名称，并且递归查找所有基类的属性。\n",
    "* 否则，列表包含对象的属性名称，它的类属性名称，并且递归查找它的类的所有基类的属性。\n",
    "\n",
    "如果对象有一个名为 __dir__() 的方法，那么该方法将被调用，并且必须返回一个属性列表"
   ]
  },
  {
   "cell_type": "code",
   "execution_count": 162,
   "metadata": {},
   "outputs": [
    {
     "data": {
      "text/plain": [
       "['A',\n",
       " 'B',\n",
       " 'Coordinate',\n",
       " 'In',\n",
       " 'Out',\n",
       " 'Shape',\n",
       " 'Test',\n",
       " '_',\n",
       " '_10',\n",
       " '_100',\n",
       " '_11',\n",
       " '_110',\n",
       " '_12',\n",
       " '_137',\n",
       " '_14',\n",
       " '_151',\n",
       " '_152',\n",
       " '_153',\n",
       " '_154',\n",
       " '_155',\n",
       " '_156',\n",
       " '_159',\n",
       " '_16',\n",
       " '_161',\n",
       " '_17',\n",
       " '_18',\n",
       " '_19',\n",
       " '_23',\n",
       " '_28',\n",
       " '_29',\n",
       " '_30',\n",
       " '_31',\n",
       " '_32',\n",
       " '_33',\n",
       " '_34',\n",
       " '_37',\n",
       " '_87',\n",
       " '_9',\n",
       " '_90',\n",
       " '_91',\n",
       " '_92',\n",
       " '_93',\n",
       " '_94',\n",
       " '_96',\n",
       " '_97',\n",
       " '_98',\n",
       " '_99',\n",
       " '__',\n",
       " '___',\n",
       " '__builtin__',\n",
       " '__builtins__',\n",
       " '__doc__',\n",
       " '__loader__',\n",
       " '__name__',\n",
       " '__package__',\n",
       " '__spec__',\n",
       " '_dh',\n",
       " '_i',\n",
       " '_i1',\n",
       " '_i10',\n",
       " '_i100',\n",
       " '_i101',\n",
       " '_i102',\n",
       " '_i103',\n",
       " '_i104',\n",
       " '_i105',\n",
       " '_i106',\n",
       " '_i107',\n",
       " '_i108',\n",
       " '_i109',\n",
       " '_i11',\n",
       " '_i110',\n",
       " '_i111',\n",
       " '_i112',\n",
       " '_i113',\n",
       " '_i114',\n",
       " '_i115',\n",
       " '_i116',\n",
       " '_i117',\n",
       " '_i118',\n",
       " '_i119',\n",
       " '_i12',\n",
       " '_i120',\n",
       " '_i121',\n",
       " '_i122',\n",
       " '_i123',\n",
       " '_i124',\n",
       " '_i125',\n",
       " '_i126',\n",
       " '_i127',\n",
       " '_i128',\n",
       " '_i129',\n",
       " '_i13',\n",
       " '_i130',\n",
       " '_i131',\n",
       " '_i132',\n",
       " '_i133',\n",
       " '_i134',\n",
       " '_i135',\n",
       " '_i136',\n",
       " '_i137',\n",
       " '_i138',\n",
       " '_i139',\n",
       " '_i14',\n",
       " '_i140',\n",
       " '_i141',\n",
       " '_i142',\n",
       " '_i143',\n",
       " '_i144',\n",
       " '_i145',\n",
       " '_i146',\n",
       " '_i147',\n",
       " '_i148',\n",
       " '_i149',\n",
       " '_i15',\n",
       " '_i150',\n",
       " '_i151',\n",
       " '_i152',\n",
       " '_i153',\n",
       " '_i154',\n",
       " '_i155',\n",
       " '_i156',\n",
       " '_i157',\n",
       " '_i158',\n",
       " '_i159',\n",
       " '_i16',\n",
       " '_i160',\n",
       " '_i161',\n",
       " '_i162',\n",
       " '_i17',\n",
       " '_i18',\n",
       " '_i19',\n",
       " '_i2',\n",
       " '_i20',\n",
       " '_i21',\n",
       " '_i22',\n",
       " '_i23',\n",
       " '_i24',\n",
       " '_i25',\n",
       " '_i26',\n",
       " '_i27',\n",
       " '_i28',\n",
       " '_i29',\n",
       " '_i3',\n",
       " '_i30',\n",
       " '_i31',\n",
       " '_i32',\n",
       " '_i33',\n",
       " '_i34',\n",
       " '_i35',\n",
       " '_i36',\n",
       " '_i37',\n",
       " '_i38',\n",
       " '_i39',\n",
       " '_i4',\n",
       " '_i40',\n",
       " '_i41',\n",
       " '_i42',\n",
       " '_i43',\n",
       " '_i44',\n",
       " '_i45',\n",
       " '_i46',\n",
       " '_i47',\n",
       " '_i48',\n",
       " '_i49',\n",
       " '_i5',\n",
       " '_i50',\n",
       " '_i51',\n",
       " '_i52',\n",
       " '_i53',\n",
       " '_i54',\n",
       " '_i55',\n",
       " '_i56',\n",
       " '_i57',\n",
       " '_i58',\n",
       " '_i59',\n",
       " '_i6',\n",
       " '_i60',\n",
       " '_i61',\n",
       " '_i62',\n",
       " '_i63',\n",
       " '_i64',\n",
       " '_i65',\n",
       " '_i66',\n",
       " '_i67',\n",
       " '_i68',\n",
       " '_i69',\n",
       " '_i7',\n",
       " '_i70',\n",
       " '_i71',\n",
       " '_i72',\n",
       " '_i73',\n",
       " '_i74',\n",
       " '_i75',\n",
       " '_i76',\n",
       " '_i77',\n",
       " '_i78',\n",
       " '_i79',\n",
       " '_i8',\n",
       " '_i80',\n",
       " '_i81',\n",
       " '_i82',\n",
       " '_i83',\n",
       " '_i84',\n",
       " '_i85',\n",
       " '_i86',\n",
       " '_i87',\n",
       " '_i88',\n",
       " '_i89',\n",
       " '_i9',\n",
       " '_i90',\n",
       " '_i91',\n",
       " '_i92',\n",
       " '_i93',\n",
       " '_i94',\n",
       " '_i95',\n",
       " '_i96',\n",
       " '_i97',\n",
       " '_i98',\n",
       " '_i99',\n",
       " '_ih',\n",
       " '_ii',\n",
       " '_iii',\n",
       " '_oh',\n",
       " 'a',\n",
       " 'abbbbbb',\n",
       " 'add',\n",
       " 'b',\n",
       " 'complex_a',\n",
       " 'exit',\n",
       " 'get_ipython',\n",
       " 'int_a',\n",
       " 'point1',\n",
       " 'quit',\n",
       " 's']"
      ]
     },
     "execution_count": 162,
     "metadata": {},
     "output_type": "execute_result"
    }
   ],
   "source": [
    "abbbbbb = 2\n",
    "dir() #返回当前本地作用域中的名称列表"
   ]
  },
  {
   "cell_type": "code",
   "execution_count": 166,
   "metadata": {},
   "outputs": [
    {
     "data": {
      "text/plain": [
       "['__add__',\n",
       " '__class__',\n",
       " '__contains__',\n",
       " '__delattr__',\n",
       " '__delitem__',\n",
       " '__dir__',\n",
       " '__doc__',\n",
       " '__eq__',\n",
       " '__format__',\n",
       " '__ge__',\n",
       " '__getattribute__',\n",
       " '__getitem__',\n",
       " '__gt__',\n",
       " '__hash__',\n",
       " '__iadd__',\n",
       " '__imul__',\n",
       " '__init__',\n",
       " '__init_subclass__',\n",
       " '__iter__',\n",
       " '__le__',\n",
       " '__len__',\n",
       " '__lt__',\n",
       " '__mul__',\n",
       " '__ne__',\n",
       " '__new__',\n",
       " '__reduce__',\n",
       " '__reduce_ex__',\n",
       " '__repr__',\n",
       " '__reversed__',\n",
       " '__rmul__',\n",
       " '__setattr__',\n",
       " '__setitem__',\n",
       " '__sizeof__',\n",
       " '__str__',\n",
       " '__subclasshook__',\n",
       " 'append',\n",
       " 'clear',\n",
       " 'copy',\n",
       " 'count',\n",
       " 'extend',\n",
       " 'index',\n",
       " 'insert',\n",
       " 'pop',\n",
       " 'remove',\n",
       " 'reverse',\n",
       " 'sort']"
      ]
     },
     "execution_count": 166,
     "metadata": {},
     "output_type": "execute_result"
    }
   ],
   "source": [
    "import struct\n",
    "dir([[],struct]) #查看列表,和struct的所有属性名称"
   ]
  },
  {
   "cell_type": "code",
   "execution_count": 159,
   "metadata": {},
   "outputs": [
    {
     "data": {
      "text/plain": [
       "['area', 'location', 'perimeter']"
      ]
     },
     "execution_count": 159,
     "metadata": {},
     "output_type": "execute_result"
    }
   ],
   "source": [
    "class Shape:\n",
    "    def __dir__(self):\n",
    "        return ['area', 'perimeter', 'location']\n",
    "s = Shape()\n",
    "dir(s)"
   ]
  },
  {
   "cell_type": "markdown",
   "metadata": {},
   "source": [
    "## divmod()"
   ]
  },
  {
   "cell_type": "markdown",
   "metadata": {},
   "source": [
    "**divmod(a,b)**\n",
    "* a: 数字，非复数。\n",
    "* b: 数字，非复数。\n",
    "\n",
    "结果\n",
    "* 对于整数，结果和 (a // b, a % b) 一致。\n",
    "* 对于浮点数，结果是 (q, a % b) ，q 通常是 math.floor(a / b) 但可能会比 1 小。\n",
    "* 在任何情况下， q * b + a % b 和 a 基本相等；如果 a % b 非零，它的符号和 b 一样，并且 0 <= abs(a % b) < abs(b) "
   ]
  },
  {
   "cell_type": "code",
   "execution_count": 168,
   "metadata": {},
   "outputs": [
    {
     "name": "stdout",
     "output_type": "stream",
     "text": [
      "(3, 1)\n",
      "(4, 0)\n",
      "(-4, 0)\n",
      "(3.0, 0.6999999999999997)\n",
      "(2.0, 1.7000000000000002)\n"
     ]
    }
   ],
   "source": [
    "print(divmod(7, 2))\n",
    "print(divmod(8, 2))\n",
    "print(divmod(8, -2))\n",
    "print(divmod(7, 2.1))\n",
    "print(divmod(7.7, 3))\n"
   ]
  },
  {
   "cell_type": "markdown",
   "metadata": {},
   "source": [
    "## enumerate()"
   ]
  },
  {
   "cell_type": "markdown",
   "metadata": {},
   "source": [
    "**enumerate(iterable, start=0)**\n",
    "* iterable，输入为一个迭代器\n",
    "* start 开始位置参数，默认为0\n",
    "\n",
    "返回一个枚举对象\n",
    "\n",
    "todo 什么是枚举对象\n",
    "\n",
    " enumerate() 返回的迭代器的 __next__() 方法返回一个元组，里面包含一个计数值（从 start 开始，默认为 0）和通过迭代 iterable 获得的值。"
   ]
  },
  {
   "cell_type": "code",
   "execution_count": 174,
   "metadata": {
    "scrolled": true
   },
   "outputs": [
    {
     "name": "stdout",
     "output_type": "stream",
     "text": [
      "(9, 'Spring')\n",
      "(10, 'Summer')\n",
      "(11, 'Fall')\n",
      "(12, 'Winter')\n"
     ]
    }
   ],
   "source": [
    "seasons = ['Spring', 'Summer', 'Fall', 'Winter']\n",
    "for i in enumerate(seasons,start=9):\n",
    "    print(i)"
   ]
  },
  {
   "cell_type": "code",
   "execution_count": 178,
   "metadata": {},
   "outputs": [
    {
     "name": "stdout",
     "output_type": "stream",
     "text": [
      "(0, 'a')\n",
      "(1, 'b')\n"
     ]
    }
   ],
   "source": [
    "cc = {\"a\":1,\"b\":22} # 如果是字典的话就会迭代输出计数值和key的元组\n",
    "for i in enumerate(cc):\n",
    "    print(i)"
   ]
  },
  {
   "cell_type": "markdown",
   "metadata": {},
   "source": [
    "## eval()\n",
    "\n",
    "todo relationship compile"
   ]
  },
  {
   "cell_type": "markdown",
   "metadata": {},
   "source": [
    "**eval(str)**\n",
    "* str是一个代码字符串，执行\n",
    "* ~~globals：可选参数，默认为globals()的值,(表示全局命名空间（存放全局变量），如果被提供，则必须是一个字典对象~~\n",
    "* ~~locals：可选参数，默认为locals()的值,表示当前局部命名空间（存放局部变量），如果被提供，可以是任何映射对象。~~ \n",
    "* 经过测试，在eval中：globals和locals不可使用eval(\"\",globals={})这种方式进行传入，只能传入字典类型，如有相同变量会进行覆盖．\n",
    "\n",
    "函数用来执行一个字符串表达式，并返回表达式的值。\n",
    "\n",
    "结果\n",
    "* 返回执行结果"
   ]
  },
  {
   "cell_type": "code",
   "execution_count": 181,
   "metadata": {},
   "outputs": [
    {
     "name": "stdout",
     "output_type": "stream",
     "text": [
      "2\n"
     ]
    }
   ],
   "source": [
    "x = 1\n",
    "print(eval(\"x+1\"))\n"
   ]
  },
  {
   "cell_type": "code",
   "execution_count": 11,
   "metadata": {},
   "outputs": [
    {
     "name": "stdout",
     "output_type": "stream",
     "text": [
      "67\n",
      "5\n"
     ]
    }
   ],
   "source": [
    "def a():\n",
    "    c = 4\n",
    "    # 通过字典传入如有相同变量会覆盖globals()和locals(),\n",
    "    #　传入两个字典后面的字典会覆盖前面的字典，\n",
    "    print(eval(\"c+1\",{\"c\":55}, {\"c\":66}))\n",
    "    print(eval(\"c+1\",{\"c\":99},locals()))\n",
    "    \n",
    "a()"
   ]
  },
  {
   "cell_type": "markdown",
   "metadata": {},
   "source": [
    "eval 与 exec 的区别\n",
    "1. eval 执行后有返回值,而exec执行后返回None\n",
    "2. eval 只能执行单个运算表达式(和lambda表达式类似),而exec可执行复杂代码\n",
    "    * 如:下面代码(较复杂为两行),exec可执行,而eval不可执行"
   ]
  },
  {
   "cell_type": "code",
   "execution_count": 16,
   "metadata": {},
   "outputs": [
    {
     "name": "stdout",
     "output_type": "stream",
     "text": [
      "aaa\n",
      "bbb\n",
      "*****************\n"
     ]
    },
    {
     "ename": "SyntaxError",
     "evalue": "invalid syntax (<string>, line 3)",
     "output_type": "error",
     "traceback": [
      "Traceback \u001b[0;36m(most recent call last)\u001b[0m:\n",
      "  File \u001b[1;32m\"/home/zhangmeng/anaconda3/envs/package_learn/lib/python3.8/site-packages/IPython/core/interactiveshell.py\"\u001b[0m, line \u001b[1;32m3343\u001b[0m, in \u001b[1;35mrun_code\u001b[0m\n    exec(code_obj, self.user_global_ns, self.user_ns)\n",
      "\u001b[0;36m  File \u001b[0;32m\"<ipython-input-16-f20851f0669a>\"\u001b[0;36m, line \u001b[0;32m7\u001b[0;36m, in \u001b[0;35m<module>\u001b[0;36m\u001b[0m\n\u001b[0;31m    eval(b)\u001b[0m\n",
      "\u001b[0;36m  File \u001b[0;32m\"<string>\"\u001b[0;36m, line \u001b[0;32m3\u001b[0m\n\u001b[0;31m    print(\"bbb\")\u001b[0m\n\u001b[0m    ^\u001b[0m\n\u001b[0;31mSyntaxError\u001b[0m\u001b[0;31m:\u001b[0m invalid syntax\n"
     ]
    }
   ],
   "source": [
    "b= \"\"\"\n",
    "print(\"aaa\")\n",
    "print(\"bbb\")\n",
    "\"\"\"\n",
    "exec(b)\n",
    "print(\"*****************\")\n",
    "eval(b)"
   ]
  },
  {
   "cell_type": "markdown",
   "metadata": {},
   "source": [
    "## exec()"
   ]
  },
  {
   "cell_type": "markdown",
   "metadata": {},
   "source": [
    "* 执行复杂代码\n",
    "* 相减上面的eval()"
   ]
  },
  {
   "cell_type": "markdown",
   "metadata": {},
   "source": [
    "**exec(str)**\n",
    "* str是一个代码字符串，执行\n",
    "* ~~globals：可选参数，默认为globals()的值,(表示全局命名空间（存放全局变量），如果被提供，则必须是一个字典对象~~\n",
    "* ~~locals：可选参数，默认为locals()的值,表示当前局部命名空间（存放局部变量），如果被提供，可以是任何映射对象。~~ \n",
    "* 经过测试，在exec中：globals和locals不可使用eval(\"\",globals={})这种方式进行传入，只能传入字典类型，如有相同变量会进行覆盖．\n",
    "\n",
    "函数用来执行一个字符串表达式,没有返回值\n",
    "\n",
    "结果\n",
    "* 返回None"
   ]
  },
  {
   "cell_type": "code",
   "execution_count": 30,
   "metadata": {},
   "outputs": [
    {
     "name": "stdout",
     "output_type": "stream",
     "text": [
      "aaa\n",
      "bbb\n",
      "None\n"
     ]
    }
   ],
   "source": [
    "b= \"\"\"\n",
    "print(\"aaa\")\n",
    "print(\"bbb\")\n",
    "\"\"\"\n",
    "print(exec(b))\n"
   ]
  },
  {
   "cell_type": "markdown",
   "metadata": {},
   "source": [
    "## filter()"
   ]
  },
  {
   "cell_type": "markdown",
   "metadata": {},
   "source": [
    "**filter(function, iterable)**\n",
    "1. 输入\n",
    "    * function 判断函数，对迭代器中元素进行判断如果可以就返回True,不可以就返回False\n",
    "    * iterable 可迭代对象\n",
    "2. 作用 \n",
    "    * 过滤掉不符合规则的迭代器中的元素\n",
    "    * 当 function 不是 None 的时相当于(item for item in iterable if function(item))\n",
    "    * function 是 None 的时相当于 (item for item in iterable if item) 。"
   ]
  },
  {
   "cell_type": "code",
   "execution_count": 32,
   "metadata": {},
   "outputs": [
    {
     "name": "stdout",
     "output_type": "stream",
     "text": [
      "[1, 3, 5, 7, 9]\n"
     ]
    }
   ],
   "source": [
    "def is_odd(n):\n",
    "    return n % 2 == 1\n",
    " \n",
    "tmplist = filter(is_odd, [1, 2, 3, 4, 5, 6, 7, 8, 9, 10])\n",
    "newlist = list(tmplist)\n",
    "print(newlist)"
   ]
  },
  {
   "cell_type": "markdown",
   "metadata": {},
   "source": [
    "## float()"
   ]
  },
  {
   "cell_type": "markdown",
   "metadata": {},
   "source": [
    "**float(x)**\n",
    "1. 简介\n",
    "    * 返回从数字或字符串 x 生成的浮点数\n",
    "2. 输入\n",
    "    * x 整数或字符串\n",
    "3. 返回\n",
    "    * 返回浮点数"
   ]
  },
  {
   "cell_type": "code",
   "execution_count": 42,
   "metadata": {},
   "outputs": [
    {
     "name": "stdout",
     "output_type": "stream",
     "text": [
      "1.0\n",
      "-1.0\n",
      "-1.65\n",
      "-1.25\n",
      "PP\n"
     ]
    }
   ],
   "source": [
    "print(float(1))\n",
    "print(float(-1))\n",
    "print(float(-1.65))\n",
    "print(float(\"-1.25\"))\n",
    "# 字母大小写都可以，例如，“inf”、“Inf”、“INFINITY”、“iNfINity” 都可以表示正无穷大\n",
    "if float(\"inf\")>100000000:\n",
    "    print(\"PP\")"
   ]
  },
  {
   "cell_type": "markdown",
   "metadata": {},
   "source": [
    "## format()"
   ]
  },
  {
   "cell_type": "markdown",
   "metadata": {},
   "source": [
    "'#' 选项可以让“替代形式”被用于转换。 替代形式可针对不同类型分别定义。 此选项仅对整数、浮点、复数和 Decimal 类型有效。 对于整数类型，当使用二进制、八进制或十六进制输出时，此选项会为输出值添加相应的 '0b', '0o' 或 '0x' 前缀。 对于浮点数、复数和 Decimal 类型，替代形式会使得转换结果总是包含小数点符号，即使其不带小数。 通常只有在带有小数的情况下，此类转换的结果中才会出现小数点符号。 此外，对于 'g' 和 'G' 转换，末尾的零不会从结果中被移除。"
   ]
  },
  {
   "cell_type": "markdown",
   "metadata": {},
   "source": [
    "* ',' 选项表示使用逗号作为千位分隔符。 对于感应区域设置的分隔符，请改用 'n' 整数表示类型。\n",
    "* 在 3.1 版更改添加新功能:可在，前面添加数字表示长度\n",
    "* '_' 选项表示对浮点表示类型和整数表示类型 'd' 使用下划线作为千位分隔符。 对于整数表示类型 'b', 'o', 'x' 和 'X'，将为每 4 个数位插入一个下划线。 对于其他表示类型指定此选项则将导致错误"
   ]
  },
  {
   "cell_type": "code",
   "execution_count": 85,
   "metadata": {},
   "outputs": [
    {
     "name": "stdout",
     "output_type": "stream",
     "text": [
      "          12_345.000\n"
     ]
    }
   ],
   "source": [
    "print(format(12345,\"20_.3f\")) #设置保存长度为20,如果设置的长度小于数字的长度,则使用使用数字的长度,如果大于则使用空格补全.\n",
    "#使用\"_\"做为千位分隔符,\".3f\"使用设置保留3位小数\n"
   ]
  },
  {
   "cell_type": "markdown",
   "metadata": {},
   "source": [
    "### 整数类型可用\n",
    "\n",
    "| 类型 | 含义 |\n",
    "|:----:|:-----:|\n",
    "|'b'|二进制格式。 输出以 2 为基数的数字。|\n",
    "|'c'|字符。在打印之前将整数转换为相应的unicode字符。|\n",
    "|'d'|十进制整数。 输出以 10 为基数的数字。|\n",
    "|'o'|八进制格式。 输出以 8 为基数的数字。|\n",
    "|'x'|十六进制格式。 输出以 16 为基数的数字，使用小写字母表示 9 以上的数码。|\n",
    "|'X'|十六进制格式。 输出以 16 为基数的数字，使用大写字母表示 9 以上的数码。|\n",
    "|'n'|数字。 这与 'd' 相似，不同之处在于它会使用当前区域设置来插入适当的数字分隔字符。|\n",
    "|None|和 'd' 相同。|"
   ]
  },
  {
   "cell_type": "code",
   "execution_count": 78,
   "metadata": {},
   "outputs": [
    {
     "name": "stdout",
     "output_type": "stream",
     "text": [
      "111010110111100110100010101\n",
      "0b111010110111100110100010101\n",
      "726746425\n",
      "         123,456,789.0\n"
     ]
    }
   ],
   "source": [
    "int_a = 123456789\n",
    "print(format(int_a,\"b\")) # 二进制\n",
    "print(format(int_a,\"#b\")) # 二进制,前面带有ob,表示二进制类型\n",
    "# print(format(int_a,\"c\")) # Unicode代码\n",
    "print(format(int_a,\"o\")) # 8进制\n",
    "print(format(int_a,\"22,.1f\"))"
   ]
  },
  {
   "cell_type": "markdown",
   "metadata": {},
   "source": [
    "### 字符串类型\n",
    " 类型 | 含义 \n",
    ":----|:---:|\n",
    "'s'｜字符串格式。这是字符串的默认类型，可以省略。\n",
    "None｜和 's' 一样。"
   ]
  },
  {
   "cell_type": "markdown",
   "metadata": {},
   "source": [
    "### float类型\n",
    " 类型 | 含义 \n",
    ":----|:---|\n",
    "'e'|指数表示。 以使用字母 'e' 来标示指数的科学计数法打印数字。 默认的精度为 6。\n",
    "'E'|指数表示。 与 'e' 相似，不同之处在于它使用大写字母 'E' 作为分隔字符。\n",
    "'f'|定点表示。 将数字显示为一个定点数。 默认的精确度为 6。\n",
    "'F'|定点表示。 与 'f' 相似，但会将 nan 转为 NAN 并将 inf 转为 INF。\n",
    "'g'|  &emsp;常规格式。 对于给定的精度 p >= 1，这会将数值舍入到 p 位有效数字，再将结果以定点格式或科学计数法进行格式化，具体取决于其值的大小。<br> &emsp; 准确的规则如下：假设使用表示类型 'e' 和精度 p-1 进行格式化的结果具有指数值 exp。 那么如果 m <= exp < p，其中 m 以 -4 表示浮点值而以 -6 表示 Decimal 值，该数字将使用类型 'f' 和精度 p-1-exp 进行格式化。 否则的话，该数字将使用表示类型 'e' 和精度 p-1 进行格式化。 在两种情况下，都会从有效数字中移除无意义的末尾零，如果小数点之后没有余下数字则小数点也会被移除，除非使用了 '#' 选项。<br>&emsp;  正负无穷，正负零和 nan 会分别被格式化为 inf, -inf, 0, -0 和 nan，无论精度如何设定。<br>  &emsp;精度 0 会被视为等同于精度 1。 默认精度为 6。\"\n",
    "'G'|常规格式。 类似于 'g'，不同之处在于当数值非常大时会切换为 'E'。 无穷与 NaN 也会表示为大写形式。\n",
    "'n'|数字。 这与 'g' 相似，不同之处在于它会使用当前区域设置来插入适当的数字分隔字符。\n",
    "'%'|百分比。 将数字乘以 100 并显示为定点 ('f') 格式，后面带一个百分号。\n",
    "None|类似于 'g'，不同之处在于当使用定点表示法时，小数点后将至少显示一位。 默认精度与表示给定值所需的精度一样。 整体效果为与其他格式修饰符所调整的 str() 输出保持一致。"
   ]
  },
  {
   "cell_type": "code",
   "execution_count": 91,
   "metadata": {},
   "outputs": [
    {
     "data": {
      "text/plain": [
       "'110.000%'"
      ]
     },
     "execution_count": 91,
     "metadata": {},
     "output_type": "execute_result"
    }
   ],
   "source": [
    "format(1.1,\".3%\") #使用百分号表示转百分比,保留三位有效数字"
   ]
  },
  {
   "cell_type": "markdown",
   "metadata": {},
   "source": [
    "## frozenset()"
   ]
  },
  {
   "cell_type": "markdown",
   "metadata": {},
   "source": [
    "**frozenset([iterable])**\n",
    "1. 简介\n",
    "    * 返回一个新的 frozenset 对象,frozenset 是一个内置的类（frozenset是一种冻结的集合，不能再添加或删除任何元素）\n",
    "2. 输入\n",
    "    * iterable -- 可迭代的对象，比如列表、字典、元组等等\n",
    "3. 返回\n",
    "    * 返回一个frozenset 对象"
   ]
  },
  {
   "cell_type": "code",
   "execution_count": 55,
   "metadata": {},
   "outputs": [
    {
     "ename": "SyntaxError",
     "evalue": "invalid character in identifier (<ipython-input-55-3eeeb2a7ee6f>, line 6)",
     "output_type": "error",
     "traceback": [
      "\u001b[0;36m  File \u001b[0;32m\"<ipython-input-55-3eeeb2a7ee6f>\"\u001b[0;36m, line \u001b[0;32m6\u001b[0m\n\u001b[0;31m    b.remove(1)　# frozenset对象不能进行删除，和添加.等操作\u001b[0m\n\u001b[0m               ^\u001b[0m\n\u001b[0;31mSyntaxError\u001b[0m\u001b[0;31m:\u001b[0m invalid character in identifier\n"
     ]
    }
   ],
   "source": [
    "a = set([1,2,3])\n",
    "b = frozenset(a)\n",
    "a.remove(1)\n",
    "print(a)\n",
    "print(\"＊＊＊＊＊＊＊＊＊＊＊＊＊＊＊\")\n",
    "b.remove(1)　# frozenset对象不能进行删除，和添加.等操作"
   ]
  },
  {
   "cell_type": "markdown",
   "metadata": {},
   "source": [
    "## getattr()"
   ]
  },
  {
   "cell_type": "markdown",
   "metadata": {},
   "source": [
    "**getattr(object, name, default)**\n",
    "1. 简介\n",
    "    * 获取对象的属性值\n",
    "2. 输入\n",
    "    * object 要获取属性的对象\n",
    "    * name 要获取的属性的名称\n",
    "    * default 可选参数，如果对象没有要获取的属性，则返回默认值．如果对象没有查询的属性且没有默认值会报错\n",
    "3. 输出\n",
    "    *返回获取到的值"
   ]
  },
  {
   "cell_type": "code",
   "execution_count": 57,
   "metadata": {},
   "outputs": [
    {
     "name": "stdout",
     "output_type": "stream",
     "text": [
      "1\n",
      "111\n"
     ]
    }
   ],
   "source": [
    "class getattr_A(object):\n",
    "    a = 1\n",
    "getattr_a = getattr_A()\n",
    "print(getattr(getattr_a,\"a\",111))\n",
    "print(getattr(getattr_a,\"b\",111))"
   ]
  },
  {
   "cell_type": "markdown",
   "metadata": {},
   "source": [
    "## globals()"
   ]
  },
  {
   "cell_type": "markdown",
   "metadata": {},
   "source": [
    "函数会以字典类型返回当前位置模块的全部全局变量。\n",
    "\n",
    "globals()返回的是当前模块的字典（在函数或方法中，不是调用它的模块，而是定义它的模块）。\n",
    "\n"
   ]
  },
  {
   "cell_type": "code",
   "execution_count": 3,
   "metadata": {
    "collapsed": true
   },
   "outputs": [
    {
     "name": "stdout",
     "output_type": "stream",
     "text": [
      "{'qqqqqqqqqqqqqqqqqqqqqqqqqqqqqqqqqqqq': 2}\n",
      "__name__\n",
      "__doc__\n",
      "__package__\n",
      "__loader__\n",
      "__spec__\n",
      "__builtin__\n",
      "__builtins__\n",
      "_ih\n",
      "_oh\n",
      "_dh\n",
      "In\n",
      "Out\n",
      "get_ipython\n",
      "exit\n",
      "quit\n",
      "_\n",
      "__\n",
      "___\n",
      "_i\n",
      "_ii\n",
      "_iii\n",
      "_i1\n",
      "a\n",
      "_i2\n",
      "_i3\n",
      "<enumerate object at 0x7f1aea46f7c0>\n"
     ]
    }
   ],
   "source": [
    "def a():\n",
    "    qqqqqqqqqqqqqqqqqqqqqqqqqqqqqqqqqqqq=2\n",
    "    print(locals())\n",
    "    for i in globals(): #和在函数内外无关，都会返回整个模块的全局变量\n",
    "        print(i)\n",
    "    zzzzzzzzzzzzzzzzzzzzzzzzzzzzzz=3\n",
    "    print(enumerate(globals()))\n",
    "\n",
    "a()"
   ]
  },
  {
   "cell_type": "markdown",
   "metadata": {},
   "source": [
    "## hasattr()"
   ]
  },
  {
   "cell_type": "markdown",
   "metadata": {},
   "source": [
    "**hasattr(object, name)**\n",
    "1. 简介\n",
    "    * 判断对象是否包含对应的属性。\n",
    "2. 输入\n",
    "    * object 要获取属性的对象\n",
    "    * name 要获取的属性的名称\n",
    "3. 输出\n",
    "    * 有该属性返回 True，否则返回 False"
   ]
  },
  {
   "cell_type": "code",
   "execution_count": 59,
   "metadata": {},
   "outputs": [
    {
     "name": "stdout",
     "output_type": "stream",
     "text": [
      "True\n",
      "True\n",
      "True\n",
      "False\n"
     ]
    }
   ],
   "source": [
    "class Coordinate:\n",
    "    x = 10\n",
    "    y = -5\n",
    "    z = 0\n",
    " \n",
    "point1 = Coordinate() \n",
    "print(hasattr(point1, 'x'))\n",
    "print(hasattr(point1, 'y'))\n",
    "print(hasattr(point1, 'z'))\n",
    "print(hasattr(point1, 'no'))  # 没有该属性"
   ]
  },
  {
   "cell_type": "markdown",
   "metadata": {},
   "source": [
    "## hash()"
   ]
  },
  {
   "cell_type": "markdown",
   "metadata": {},
   "source": [
    "**hash(object)**\n",
    "1. 简介\n",
    "    * 用于获取取一个对象（字符串或者数值等）的哈希值\n",
    "    * 返回该对象的哈希值（如果它有的话）。\n",
    "    * 哈希值是整数。它们在字典查找元素时用来快速比较字典的键。相同大小的数字变量有相同的哈希值（即使它们类型不同，如 1 和 1.0）。\n",
    "2. 输入\n",
    "    * 对象\n",
    "3. 输出\n",
    "    * hash 值(为整数)\n",
    "    * 相同数字和整数的hash值相同"
   ]
  },
  {
   "cell_type": "code",
   "execution_count": 4,
   "metadata": {},
   "outputs": [
    {
     "name": "stdout",
     "output_type": "stream",
     "text": [
      "165\n",
      "165\n",
      "1720662549452878971\n",
      "-4294476845180715838\n",
      "-6572221934557873766\n",
      "-5932172304762146794\n",
      "1572098986052697636\n",
      "1572098986052697636\n"
     ]
    }
   ],
   "source": [
    "print(hash(165))\n",
    "print(hash(165.0))\n",
    "print(hash(\"name\"))\n",
    "print(hash(\"name1\"))\n",
    "print(hash(str([1,2,3])))\n",
    "print(hash(str([3,2,1])))\n",
    "print(hash(str(set([1,2,3]))))\n",
    "print(hash(str(set([3,2,1]))))"
   ]
  },
  {
   "cell_type": "code",
   "execution_count": 5,
   "metadata": {},
   "outputs": [
    {
     "name": "stdout",
     "output_type": "stream",
     "text": [
      "The hash is: -489814130248900144\n"
     ]
    }
   ],
   "source": [
    "class Student:\n",
    "    def __init__(self, age, name):\n",
    "        self.age = age\n",
    "        self.name = name\n",
    " \n",
    "    def __eq__(self, other):\n",
    "        return self.age == other.age and self.name == other.name\n",
    " \n",
    "    def __hash__(self):\n",
    "        return hash((self.age, self.name))\n",
    " \n",
    "student = Student(23, 'Shubham')\n",
    "print(\"The hash is: %d\" % hash(student))"
   ]
  },
  {
   "cell_type": "markdown",
   "metadata": {},
   "source": [
    "## help()"
   ]
  },
  {
   "cell_type": "code",
   "execution_count": null,
   "metadata": {},
   "outputs": [],
   "source": [
    "**help(object)**\n",
    "1. 简介\n",
    "    * 函数用于查看函数或模块用途的详细说明。\n",
    "2. 输入\n",
    "    *ogject 对象"
   ]
  },
  {
   "cell_type": "code",
   "execution_count": null,
   "metadata": {
    "collapsed": true
   },
   "outputs": [
    {
     "name": "stdout",
     "output_type": "stream",
     "text": [
      "\n",
      "Welcome to Python 3.8's help utility!\n",
      "\n",
      "If this is your first time using Python, you should definitely check out\n",
      "the tutorial on the Internet at https://docs.python.org/3.8/tutorial/.\n",
      "\n",
      "Enter the name of any module, keyword, or topic to get help on writing\n",
      "Python programs and using Python modules.  To quit this help utility and\n",
      "return to the interpreter, just type \"quit\".\n",
      "\n",
      "To get a list of available modules, keywords, symbols, or topics, type\n",
      "\"modules\", \"keywords\", \"symbols\", or \"topics\".  Each module also comes\n",
      "with a one-line summary of what it does; to list the modules whose name\n",
      "or summary contain a given string such as \"spam\", type \"modules spam\".\n",
      "\n"
     ]
    }
   ],
   "source": [
    "help()"
   ]
  },
  {
   "cell_type": "code",
   "execution_count": 5,
   "metadata": {
    "collapsed": true
   },
   "outputs": [
    {
     "name": "stdout",
     "output_type": "stream",
     "text": [
      "Help on list object:\n",
      "\n",
      "class list(object)\n",
      " |  list(iterable=(), /)\n",
      " |  \n",
      " |  Built-in mutable sequence.\n",
      " |  \n",
      " |  If no argument is given, the constructor creates a new empty list.\n",
      " |  The argument must be an iterable if specified.\n",
      " |  \n",
      " |  Methods defined here:\n",
      " |  \n",
      " |  __add__(self, value, /)\n",
      " |      Return self+value.\n",
      " |  \n",
      " |  __contains__(self, key, /)\n",
      " |      Return key in self.\n",
      " |  \n",
      " |  __delitem__(self, key, /)\n",
      " |      Delete self[key].\n",
      " |  \n",
      " |  __eq__(self, value, /)\n",
      " |      Return self==value.\n",
      " |  \n",
      " |  __ge__(self, value, /)\n",
      " |      Return self>=value.\n",
      " |  \n",
      " |  __getattribute__(self, name, /)\n",
      " |      Return getattr(self, name).\n",
      " |  \n",
      " |  __getitem__(...)\n",
      " |      x.__getitem__(y) <==> x[y]\n",
      " |  \n",
      " |  __gt__(self, value, /)\n",
      " |      Return self>value.\n",
      " |  \n",
      " |  __iadd__(self, value, /)\n",
      " |      Implement self+=value.\n",
      " |  \n",
      " |  __imul__(self, value, /)\n",
      " |      Implement self*=value.\n",
      " |  \n",
      " |  __init__(self, /, *args, **kwargs)\n",
      " |      Initialize self.  See help(type(self)) for accurate signature.\n",
      " |  \n",
      " |  __iter__(self, /)\n",
      " |      Implement iter(self).\n",
      " |  \n",
      " |  __le__(self, value, /)\n",
      " |      Return self<=value.\n",
      " |  \n",
      " |  __len__(self, /)\n",
      " |      Return len(self).\n",
      " |  \n",
      " |  __lt__(self, value, /)\n",
      " |      Return self<value.\n",
      " |  \n",
      " |  __mul__(self, value, /)\n",
      " |      Return self*value.\n",
      " |  \n",
      " |  __ne__(self, value, /)\n",
      " |      Return self!=value.\n",
      " |  \n",
      " |  __repr__(self, /)\n",
      " |      Return repr(self).\n",
      " |  \n",
      " |  __reversed__(self, /)\n",
      " |      Return a reverse iterator over the list.\n",
      " |  \n",
      " |  __rmul__(self, value, /)\n",
      " |      Return value*self.\n",
      " |  \n",
      " |  __setitem__(self, key, value, /)\n",
      " |      Set self[key] to value.\n",
      " |  \n",
      " |  __sizeof__(self, /)\n",
      " |      Return the size of the list in memory, in bytes.\n",
      " |  \n",
      " |  append(self, object, /)\n",
      " |      Append object to the end of the list.\n",
      " |  \n",
      " |  clear(self, /)\n",
      " |      Remove all items from list.\n",
      " |  \n",
      " |  copy(self, /)\n",
      " |      Return a shallow copy of the list.\n",
      " |  \n",
      " |  count(self, value, /)\n",
      " |      Return number of occurrences of value.\n",
      " |  \n",
      " |  extend(self, iterable, /)\n",
      " |      Extend list by appending elements from the iterable.\n",
      " |  \n",
      " |  index(self, value, start=0, stop=9223372036854775807, /)\n",
      " |      Return first index of value.\n",
      " |      \n",
      " |      Raises ValueError if the value is not present.\n",
      " |  \n",
      " |  insert(self, index, object, /)\n",
      " |      Insert object before index.\n",
      " |  \n",
      " |  pop(self, index=-1, /)\n",
      " |      Remove and return item at index (default last).\n",
      " |      \n",
      " |      Raises IndexError if list is empty or index is out of range.\n",
      " |  \n",
      " |  remove(self, value, /)\n",
      " |      Remove first occurrence of value.\n",
      " |      \n",
      " |      Raises ValueError if the value is not present.\n",
      " |  \n",
      " |  reverse(self, /)\n",
      " |      Reverse *IN PLACE*.\n",
      " |  \n",
      " |  sort(self, /, *, key=None, reverse=False)\n",
      " |      Sort the list in ascending order and return None.\n",
      " |      \n",
      " |      The sort is in-place (i.e. the list itself is modified) and stable (i.e. the\n",
      " |      order of two equal elements is maintained).\n",
      " |      \n",
      " |      If a key function is given, apply it once to each list item and sort them,\n",
      " |      ascending or descending, according to their function values.\n",
      " |      \n",
      " |      The reverse flag can be set to sort in descending order.\n",
      " |  \n",
      " |  ----------------------------------------------------------------------\n",
      " |  Static methods defined here:\n",
      " |  \n",
      " |  __new__(*args, **kwargs) from builtins.type\n",
      " |      Create and return a new object.  See help(type) for accurate signature.\n",
      " |  \n",
      " |  ----------------------------------------------------------------------\n",
      " |  Data and other attributes defined here:\n",
      " |  \n",
      " |  __hash__ = None\n",
      "\n"
     ]
    }
   ],
   "source": [
    "help([])"
   ]
  },
  {
   "cell_type": "code",
   "execution_count": 10,
   "metadata": {
    "collapsed": true
   },
   "outputs": [
    {
     "name": "stdout",
     "output_type": "stream",
     "text": [
      "Help on class list in module builtins:\n",
      "\n",
      "class list(object)\n",
      " |  list(iterable=(), /)\n",
      " |  \n",
      " |  Built-in mutable sequence.\n",
      " |  \n",
      " |  If no argument is given, the constructor creates a new empty list.\n",
      " |  The argument must be an iterable if specified.\n",
      " |  \n",
      " |  Methods defined here:\n",
      " |  \n",
      " |  __add__(self, value, /)\n",
      " |      Return self+value.\n",
      " |  \n",
      " |  __contains__(self, key, /)\n",
      " |      Return key in self.\n",
      " |  \n",
      " |  __delitem__(self, key, /)\n",
      " |      Delete self[key].\n",
      " |  \n",
      " |  __eq__(self, value, /)\n",
      " |      Return self==value.\n",
      " |  \n",
      " |  __ge__(self, value, /)\n",
      " |      Return self>=value.\n",
      " |  \n",
      " |  __getattribute__(self, name, /)\n",
      " |      Return getattr(self, name).\n",
      " |  \n",
      " |  __getitem__(...)\n",
      " |      x.__getitem__(y) <==> x[y]\n",
      " |  \n",
      " |  __gt__(self, value, /)\n",
      " |      Return self>value.\n",
      " |  \n",
      " |  __iadd__(self, value, /)\n",
      " |      Implement self+=value.\n",
      " |  \n",
      " |  __imul__(self, value, /)\n",
      " |      Implement self*=value.\n",
      " |  \n",
      " |  __init__(self, /, *args, **kwargs)\n",
      " |      Initialize self.  See help(type(self)) for accurate signature.\n",
      " |  \n",
      " |  __iter__(self, /)\n",
      " |      Implement iter(self).\n",
      " |  \n",
      " |  __le__(self, value, /)\n",
      " |      Return self<=value.\n",
      " |  \n",
      " |  __len__(self, /)\n",
      " |      Return len(self).\n",
      " |  \n",
      " |  __lt__(self, value, /)\n",
      " |      Return self<value.\n",
      " |  \n",
      " |  __mul__(self, value, /)\n",
      " |      Return self*value.\n",
      " |  \n",
      " |  __ne__(self, value, /)\n",
      " |      Return self!=value.\n",
      " |  \n",
      " |  __repr__(self, /)\n",
      " |      Return repr(self).\n",
      " |  \n",
      " |  __reversed__(self, /)\n",
      " |      Return a reverse iterator over the list.\n",
      " |  \n",
      " |  __rmul__(self, value, /)\n",
      " |      Return value*self.\n",
      " |  \n",
      " |  __setitem__(self, key, value, /)\n",
      " |      Set self[key] to value.\n",
      " |  \n",
      " |  __sizeof__(self, /)\n",
      " |      Return the size of the list in memory, in bytes.\n",
      " |  \n",
      " |  append(self, object, /)\n",
      " |      Append object to the end of the list.\n",
      " |  \n",
      " |  clear(self, /)\n",
      " |      Remove all items from list.\n",
      " |  \n",
      " |  copy(self, /)\n",
      " |      Return a shallow copy of the list.\n",
      " |  \n",
      " |  count(self, value, /)\n",
      " |      Return number of occurrences of value.\n",
      " |  \n",
      " |  extend(self, iterable, /)\n",
      " |      Extend list by appending elements from the iterable.\n",
      " |  \n",
      " |  index(self, value, start=0, stop=9223372036854775807, /)\n",
      " |      Return first index of value.\n",
      " |      \n",
      " |      Raises ValueError if the value is not present.\n",
      " |  \n",
      " |  insert(self, index, object, /)\n",
      " |      Insert object before index.\n",
      " |  \n",
      " |  pop(self, index=-1, /)\n",
      " |      Remove and return item at index (default last).\n",
      " |      \n",
      " |      Raises IndexError if list is empty or index is out of range.\n",
      " |  \n",
      " |  remove(self, value, /)\n",
      " |      Remove first occurrence of value.\n",
      " |      \n",
      " |      Raises ValueError if the value is not present.\n",
      " |  \n",
      " |  reverse(self, /)\n",
      " |      Reverse *IN PLACE*.\n",
      " |  \n",
      " |  sort(self, /, *, key=None, reverse=False)\n",
      " |      Sort the list in ascending order and return None.\n",
      " |      \n",
      " |      The sort is in-place (i.e. the list itself is modified) and stable (i.e. the\n",
      " |      order of two equal elements is maintained).\n",
      " |      \n",
      " |      If a key function is given, apply it once to each list item and sort them,\n",
      " |      ascending or descending, according to their function values.\n",
      " |      \n",
      " |      The reverse flag can be set to sort in descending order.\n",
      " |  \n",
      " |  ----------------------------------------------------------------------\n",
      " |  Static methods defined here:\n",
      " |  \n",
      " |  __new__(*args, **kwargs) from builtins.type\n",
      " |      Create and return a new object.  See help(type) for accurate signature.\n",
      " |  \n",
      " |  ----------------------------------------------------------------------\n",
      " |  Data and other attributes defined here:\n",
      " |  \n",
      " |  __hash__ = None\n",
      "\n"
     ]
    }
   ],
   "source": [
    "help(\"list\")"
   ]
  },
  {
   "cell_type": "markdown",
   "metadata": {},
   "source": [
    "## hex()"
   ]
  },
  {
   "cell_type": "markdown",
   "metadata": {},
   "source": [
    "**hex(x)**\n",
    "1. 简介\n",
    "    * 将整数转换成16进制，以字符串形式表示\n",
    "2. 输入\n",
    "    * x 十进制数\n",
    "    * 如果 x 不是 Python int 对象，则必须定义返回整数的 __index__() 方法.\n",
    "3. 输出\n",
    "    * 对应的16进制字符串"
   ]
  },
  {
   "cell_type": "code",
   "execution_count": 13,
   "metadata": {},
   "outputs": [
    {
     "name": "stdout",
     "output_type": "stream",
     "text": [
      "0xff\n",
      "-0x19\n"
     ]
    }
   ],
   "source": [
    "print(hex(255))\n",
    "print(hex(-25))"
   ]
  },
  {
   "cell_type": "code",
   "execution_count": 15,
   "metadata": {},
   "outputs": [
    {
     "name": "stdout",
     "output_type": "stream",
     "text": [
      "0xff\n",
      "ff\n",
      "FF\n",
      "0xff ff FF\n"
     ]
    }
   ],
   "source": [
    "# 使用format转16进制.可去掉前缀0x\n",
    "print(format(255,\"#x\"))\n",
    "print(format(255,\"x\"))\n",
    "print(format(255,\"X\"))\n",
    "print('%#x' % 255, '%x' % 255, '%X' % 255)"
   ]
  },
  {
   "cell_type": "markdown",
   "metadata": {},
   "source": [
    "## id()"
   ]
  },
  {
   "cell_type": "markdown",
   "metadata": {},
   "source": [
    "**id(object)**\n",
    "1. 简介\n",
    "    * 函数返回对象的唯一标识符，标识符是一个整数。\n",
    "    * CPython 中 id() 函数用于获取对象的内存地址。\n",
    "    * 在此对象的生命周期中保证是唯一且恒定的。两个生命期不重叠的对象可能具有相同的 id() 值。\n",
    "2. 输入\n",
    "    * object 对象\n",
    "3. 输出\n",
    "    * 对象的唯一标示"
   ]
  },
  {
   "cell_type": "code",
   "execution_count": 30,
   "metadata": {},
   "outputs": [
    {
     "name": "stdout",
     "output_type": "stream",
     "text": [
      "139923729362480\n",
      "139923729362480\n",
      "**********************\n",
      "139923737483712\n",
      "139923737501248\n",
      "**********************\n",
      "139923737165952\n",
      "139923737166016\n"
     ]
    }
   ],
   "source": [
    "a = \"123\"                             # 字符串\n",
    "print(id(a))                          # \n",
    "print(id(\"123\"))\n",
    "# 相同字符串 整数的id相同\n",
    "print(\"**********************\")\n",
    "b = [1,2,3]                           # 列表\n",
    "print(id(b))                          # \n",
    "print(id([1,2,3]))\n",
    "print(\"**********************\")\n",
    "c = {'num1':1,'num2':2,'num3':3}       # 字典\n",
    "print(id(c))                           # \n",
    "print(id({'num1':1,'num2':2,'num3':3} ))"
   ]
  },
  {
   "cell_type": "code",
   "execution_count": 29,
   "metadata": {},
   "outputs": [
    {
     "data": {
      "text/plain": [
       "94838230424896"
      ]
     },
     "execution_count": 29,
     "metadata": {},
     "output_type": "execute_result"
    }
   ],
   "source": [
    "id(1)"
   ]
  },
  {
   "cell_type": "markdown",
   "metadata": {},
   "source": [
    "## input()"
   ]
  },
  {
   "cell_type": "markdown",
   "metadata": {},
   "source": [
    "**input(prompt)**\n",
    "1. 简介\n",
    "    * 函数接受一个标准输入数据，返回为 string 类型\n",
    "2. 输入\n",
    "    * prompt : 提示信息\n",
    "3. 返回\n",
    "    * 返回输入的字符串(python3所有输入都看做字符串)()\n",
    "    * python2 中 input() 相等于 eval(raw_input(prompt)"
   ]
  },
  {
   "cell_type": "code",
   "execution_count": 32,
   "metadata": {},
   "outputs": [
    {
     "name": "stdout",
     "output_type": "stream",
     "text": [
      "test123\n",
      "<class 'str'>\n"
     ]
    }
   ],
   "source": [
    "input_a = input(\"test\")\n",
    "print(type(input_a))"
   ]
  },
  {
   "cell_type": "markdown",
   "metadata": {},
   "source": [
    "## int()"
   ]
  },
  {
   "cell_type": "markdown",
   "metadata": {},
   "source": [
    "**class int(x, base=10)**\n",
    "1. 简介\n",
    "    * 将一个字符串或数字转换为整型。\n",
    "    * 如果 x 定义了 __int__()，int(x) 将返回 x.__int__()。<br> 如果 x 定义了 __index__()，它将返回 x.__index__()。<br> 如果 x 定义了 __trunc__()，它将返回 x.__trunc__()。 对于浮点数，它将向零舍入。\n",
    "2. 输入\n",
    "    * x -- 字符串或数字。\n",
    "    * base -- 进制数，默认十进制。指定进制数x需要为字符串类型或bytes\n",
    "    \n",
    "3. 返回\n",
    "    * 整数类型"
   ]
  },
  {
   "cell_type": "code",
   "execution_count": 49,
   "metadata": {},
   "outputs": [
    {
     "name": "stdout",
     "output_type": "stream",
     "text": [
      "0\n",
      "0\n",
      "3\n",
      "10\n",
      "2\n"
     ]
    }
   ],
   "source": [
    "print(int())                # 不传入参数时，得到结果0\n",
    "print(int(0.5))             # 去掉小数部分，得到结果0\n",
    "print(int(3))               # 得到结果3\n",
    "print(int('0xa',16))        # 十六进制数“0xa”转换成十进制整数，得到结果10\n",
    "print(int('00010',2))       # 二进制数“00010”转换成十进制整数，得到结果2"
   ]
  },
  {
   "cell_type": "code",
   "execution_count": 45,
   "metadata": {},
   "outputs": [
    {
     "data": {
      "text/plain": [
       "3"
      ]
     },
     "execution_count": 45,
     "metadata": {},
     "output_type": "execute_result"
    }
   ],
   "source": [
    "class int_A:\n",
    "    def __int__(self):\n",
    "        return \"11\"\n",
    "int_a = int_A()\n",
    "int(int_a)"
   ]
  },
  {
   "cell_type": "markdown",
   "metadata": {},
   "source": [
    "## isinstance()"
   ]
  },
  {
   "cell_type": "markdown",
   "metadata": {},
   "source": [
    "**isinstance(object, classinfo)**\n",
    "1. 简介\n",
    "    * 判断一个对象是否是一个已知的类型，类似 type()\n",
    "        * 如果参数 object 是参数 classinfo 的实例或者是其 (直接、间接或 虚拟) 子类则返回 True。\n",
    "        * 如果 object 不是给定类型的对象，函数将总是返回 False。\n",
    "        * 如果 classinfo 是类型对象元组（或由其他此类元组递归组成的元组），\n",
    "        * 那么如果 object 是其中任何一个类型的实例就返回 True。\n",
    "2. 输入\n",
    "    * object 实例对象\n",
    "    * classinfo 直接或间接类名、基本类型或者由它们组成的元组\n",
    "3. 返回值\n",
    "    * True或False\n",
    "4. isinstance() 与 type() 区别：\n",
    "\n",
    "    * type() 不会认为子类是一种父类类型，不考虑继承关系。\n",
    "    * isinstance() 会认为子类是一种父类类型，考虑继承关系。\n"
   ]
  },
  {
   "cell_type": "code",
   "execution_count": 50,
   "metadata": {},
   "outputs": [
    {
     "name": "stdout",
     "output_type": "stream",
     "text": [
      "True\n",
      "False\n",
      "False\n",
      "True\n"
     ]
    }
   ],
   "source": [
    "a = 2\n",
    "\n",
    "print(isinstance(a,int))                   #  True\n",
    "print(isinstance(a,str))                   #  False\n",
    "print(isinstance(a,(str,tuple,dict)))      #  False\n",
    "print(isinstance(a,(str,tuple,int)))       # 是元组其中的一个则返回True"
   ]
  },
  {
   "cell_type": "code",
   "execution_count": 51,
   "metadata": {},
   "outputs": [
    {
     "name": "stdout",
     "output_type": "stream",
     "text": [
      "True\n",
      "True\n",
      "True\n",
      "False\n"
     ]
    }
   ],
   "source": [
    "class A:\n",
    "    pass\n",
    "\n",
    "class B(A):\n",
    "    pass\n",
    "\n",
    "print(isinstance(A(),A))    # True\n",
    "print( type(A()) == A )     # True\n",
    "\n",
    "print(isinstance(B(),A))    # True\n",
    "print( type(B()) == A )     # False   --type()不考虑继承关系"
   ]
  },
  {
   "cell_type": "markdown",
   "metadata": {},
   "source": [
    "## issubclass()"
   ]
  },
  {
   "cell_type": "markdown",
   "metadata": {},
   "source": [
    "**issubclass(class, classinfo)**\n",
    "1. 简介\n",
    "    \n",
    "    判断参数 class 是否是类型参数 classinfo 的子类(或者是相同类)\n",
    "2. 输入\n",
    "    * 如果 class 是 classinfo 的 (直接、间接或 虚拟) 子类则返回 True。 \n",
    "    * 类会被视作其自身的子类。 classinfo 也以是类对象的元组\n",
    "3. 返回\n",
    "    \n",
    "    True或False"
   ]
  },
  {
   "cell_type": "code",
   "execution_count": 54,
   "metadata": {},
   "outputs": [
    {
     "name": "stdout",
     "output_type": "stream",
     "text": [
      "False\n",
      "True\n",
      "True\n",
      "True\n"
     ]
    }
   ],
   "source": [
    "class a:\n",
    "    pass\n",
    "class b(a):     # b继承了a，即b是a的子类\n",
    "    pass\n",
    "class c:\n",
    "    pass\n",
    "print(issubclass(a,b))    # 判断 a 是 b 的子类？\n",
    "# False\n",
    "print(issubclass(b,a))    # 判断 b 是 a 的子类？\n",
    "# True\n",
    "print(issubclass(a,a))\n",
    "#True\n",
    "print(issubclass(b,(a,c))) # classinfo为元组"
   ]
  },
  {
   "cell_type": "markdown",
   "metadata": {},
   "source": [
    "## iter()"
   ]
  },
  {
   "cell_type": "markdown",
   "metadata": {},
   "source": [
    "**iter(object, sentinel)**\n",
    "\n",
    "1.　简介\n",
    "\n",
    "    用来生成迭代器\n",
    "    \n",
    "2. 输入\n",
    "    * object -- 支持迭代的集合对象。\n",
    "    * sentinel -- 如果传递了第二个参数，则参数 object 必须是一个可调用的对象（如，函数），此时，iter 创建了一个迭代器对象，每次调用这个迭代器对象的__next__()方法时，都会调用 object。\n",
    "    * 当第二个参数不存在， 第一个参数必须是支持迭代协议的容器类型对象，例如字典等， 或者是支持序列协议的序列类型对象，例如列表等，如果都不支持则报错。\n",
    "    * 当第二个参数存在， 即哨兵参数存在，则第一个参数必须是可调用对象，即函数等，以此种方式创建的迭代器对象将会调用object，可调用对象参数调用时不需要参数，如果可调用对象调用后返回值与哨兵对象值相同， 则结束调用。\n",
    "3. 返回\n",
    "    * 迭代器\n",
    "    \n",
    "    \n",
    "**详见迭代器篇**"
   ]
  },
  {
   "cell_type": "code",
   "execution_count": 59,
   "metadata": {},
   "outputs": [
    {
     "name": "stdout",
     "output_type": "stream",
     "text": [
      "1\n",
      "2\n",
      "3\n"
     ]
    },
    {
     "ename": "StopIteration",
     "evalue": "",
     "output_type": "error",
     "traceback": [
      "\u001b[0;31m---------------------------------------------------------------------------\u001b[0m",
      "\u001b[0;31mStopIteration\u001b[0m                             Traceback (most recent call last)",
      "\u001b[0;32m<ipython-input-59-ab951d993ec9>\u001b[0m in \u001b[0;36m<module>\u001b[0;34m\u001b[0m\n\u001b[1;32m      8\u001b[0m \u001b[0mprint\u001b[0m\u001b[0;34m(\u001b[0m\u001b[0mnext\u001b[0m\u001b[0;34m(\u001b[0m\u001b[0mit_list\u001b[0m\u001b[0;34m)\u001b[0m\u001b[0;34m)\u001b[0m\u001b[0;34m\u001b[0m\u001b[0;34m\u001b[0m\u001b[0m\n\u001b[1;32m      9\u001b[0m \u001b[0;31m# 3\u001b[0m\u001b[0;34m\u001b[0m\u001b[0;34m\u001b[0m\u001b[0;34m\u001b[0m\u001b[0m\n\u001b[0;32m---> 10\u001b[0;31m \u001b[0mprint\u001b[0m\u001b[0;34m(\u001b[0m\u001b[0mnext\u001b[0m\u001b[0;34m(\u001b[0m\u001b[0mit_list\u001b[0m\u001b[0;34m)\u001b[0m\u001b[0;34m)\u001b[0m\u001b[0;34m\u001b[0m\u001b[0;34m\u001b[0m\u001b[0m\n\u001b[0m\u001b[1;32m     11\u001b[0m \u001b[0;31m# StopIteration\u001b[0m\u001b[0;34m\u001b[0m\u001b[0;34m\u001b[0m\u001b[0;34m\u001b[0m\u001b[0m\n",
      "\u001b[0;31mStopIteration\u001b[0m: "
     ]
    }
   ],
   "source": [
    "it = [1,2,3]\n",
    "it_list = iter(it)\n",
    "\n",
    "print(next(it_list))\n",
    "# 1\n",
    "print(next(it_list))\n",
    "# 2\n",
    "print(next(it_list))\n",
    "# 3\n",
    "print(next(it_list))\n",
    "# StopIteration"
   ]
  },
  {
   "cell_type": "code",
   "execution_count": 60,
   "metadata": {},
   "outputs": [
    {
     "name": "stdout",
     "output_type": "stream",
     "text": [
      "see what wee choose:【good】\n",
      "good\n",
      "see what wee choose:【STOP】\n"
     ]
    }
   ],
   "source": [
    "# 等到迭代器,运行到STOP后停止\n",
    "import random as rd\n",
    "def test():\n",
    "    choices = ['haha','man','good','NLP','STOP','doggie']\n",
    "    x = rd.choice(choices)\n",
    "    print(\"see what wee choose:【%s】\"%x)\n",
    "    return x\n",
    " \n",
    "for n in iter(test, 'STOP'):\n",
    "    print(n)"
   ]
  },
  {
   "cell_type": "markdown",
   "metadata": {},
   "source": [
    "## len()"
   ]
  },
  {
   "cell_type": "markdown",
   "metadata": {},
   "source": [
    "**len(s)**\n",
    "1. 简介\n",
    "    \n",
    "    对象（字符、列表、元组等）长度或项目个数\n",
    "2. 输入\n",
    "    s 实参可以是序列（如 string、bytes、tuple、list 或 range 等）或集合（如 dictionary、set 或 frozen set 等）\n",
    "3. 返回\n",
    "\n",
    "    对象的长度\n",
    "    "
   ]
  },
  {
   "cell_type": "code",
   "execution_count": 56,
   "metadata": {},
   "outputs": [
    {
     "name": "stdout",
     "output_type": "stream",
     "text": [
      "4\n",
      "3\n",
      "5\n"
     ]
    },
    {
     "ename": "TypeError",
     "evalue": "object of type 'int' has no len()",
     "output_type": "error",
     "traceback": [
      "\u001b[0;31m---------------------------------------------------------------------------\u001b[0m",
      "\u001b[0;31mTypeError\u001b[0m                                 Traceback (most recent call last)",
      "\u001b[0;32m<ipython-input-56-c0582d96a6c6>\u001b[0m in \u001b[0;36m<module>\u001b[0;34m\u001b[0m\n\u001b[1;32m      4\u001b[0m \u001b[0mprint\u001b[0m\u001b[0;34m(\u001b[0m\u001b[0mlen\u001b[0m\u001b[0;34m(\u001b[0m\u001b[0;34m(\u001b[0m\u001b[0;36m1\u001b[0m\u001b[0;34m,\u001b[0m\u001b[0;36m2\u001b[0m\u001b[0;34m,\u001b[0m\u001b[0;36m3\u001b[0m\u001b[0;34m,\u001b[0m\u001b[0;36m4\u001b[0m\u001b[0;34m,\u001b[0m\u001b[0;36m50\u001b[0m\u001b[0;34m)\u001b[0m\u001b[0;34m)\u001b[0m\u001b[0;34m)\u001b[0m        \u001b[0;31m# 元组，返回元素个数5\u001b[0m\u001b[0;34m\u001b[0m\u001b[0;34m\u001b[0m\u001b[0m\n\u001b[1;32m      5\u001b[0m \u001b[0;34m\u001b[0m\u001b[0m\n\u001b[0;32m----> 6\u001b[0;31m \u001b[0mprint\u001b[0m\u001b[0;34m(\u001b[0m\u001b[0mlen\u001b[0m\u001b[0;34m(\u001b[0m\u001b[0;36m12\u001b[0m\u001b[0;34m)\u001b[0m\u001b[0;34m)\u001b[0m                  \u001b[0;31m# 注意：整数类型不适用，否则报错\u001b[0m\u001b[0;34m\u001b[0m\u001b[0;34m\u001b[0m\u001b[0m\n\u001b[0m\u001b[1;32m      7\u001b[0m \u001b[0;31m# TypeError: object of type 'int' has no len()\u001b[0m\u001b[0;34m\u001b[0m\u001b[0;34m\u001b[0m\u001b[0;34m\u001b[0m\u001b[0m\n",
      "\u001b[0;31mTypeError\u001b[0m: object of type 'int' has no len()"
     ]
    }
   ],
   "source": [
    "# len()方法返回对象（字符、列表、元组等）长度或元素个数。\n",
    "print(len('1234'))              # 字符串，返回字符长度4\n",
    "print(len(['1234','asd',1]))    # 列表，返回元素个数3\n",
    "print(len((1,2,3,4,50)))        # 元组，返回元素个数5\n",
    "\n",
    "print(len(12))                  # 注意：整数类型不适用，否则报错\n",
    "# TypeError: object of type 'int' has no len()"
   ]
  },
  {
   "cell_type": "markdown",
   "metadata": {},
   "source": [
    "## list()"
   ]
  },
  {
   "cell_type": "markdown",
   "metadata": {},
   "source": [
    "**list(iterable)**\n",
    "\n",
    "1. 解释\n",
    "    \n",
    "    生成列表类型\n",
    "2. 输入\n",
    "    * iterable 可迭代对象\n",
    "3. 返回\n",
    "    * 列表"
   ]
  },
  {
   "cell_type": "code",
   "execution_count": 66,
   "metadata": {},
   "outputs": [
    {
     "name": "stdout",
     "output_type": "stream",
     "text": [
      "['a']\n",
      "[1, 2, 3]\n"
     ]
    }
   ],
   "source": [
    "print(list({\"a\":1}))\n",
    "c = (1,2,3)\n",
    "print(list(c))"
   ]
  },
  {
   "cell_type": "markdown",
   "metadata": {},
   "source": [
    "## locals()"
   ]
  },
  {
   "cell_type": "markdown",
   "metadata": {},
   "source": [
    "* 更新并返回表示当前本地符号表的字典。 \n",
    "* 在函数代码块但不是类代码块中调用 locals() 时将返回自由变量。 \n",
    "* 请注意在模块层级上，locals() 和 globals() 是同一个字典。\n",
    "* (locals 在函数中则返回在locals()前面定义的函数,globals()在函数中返回全局变量,在模块级则都返回的是全局变量)"
   ]
  },
  {
   "cell_type": "code",
   "execution_count": 4,
   "metadata": {},
   "outputs": [
    {
     "name": "stdout",
     "output_type": "stream",
     "text": [
      "{'local_aaaa': 111}\n"
     ]
    }
   ],
   "source": [
    "def locals_a():\n",
    "    local_aaaa = 111\n",
    "    print(locals())\n",
    "    local_bbbb = 222\n",
    "locals_a()"
   ]
  },
  {
   "cell_type": "code",
   "execution_count": 68,
   "metadata": {},
   "outputs": [
    {
     "ename": "NameError",
     "evalue": "name 'long' is not defined",
     "output_type": "error",
     "traceback": [
      "\u001b[0;31m---------------------------------------------------------------------------\u001b[0m",
      "\u001b[0;31mNameError\u001b[0m                                 Traceback (most recent call last)",
      "\u001b[0;32m<ipython-input-68-b72b6ba28d55>\u001b[0m in \u001b[0;36m<module>\u001b[0;34m\u001b[0m\n\u001b[0;32m----> 1\u001b[0;31m \u001b[0mlong\u001b[0m\u001b[0;34m(\u001b[0m\u001b[0;34m)\u001b[0m\u001b[0;34m\u001b[0m\u001b[0;34m\u001b[0m\u001b[0m\n\u001b[0m",
      "\u001b[0;31mNameError\u001b[0m: name 'long' is not defined"
     ]
    }
   ],
   "source": []
  },
  {
   "cell_type": "code",
   "execution_count": null,
   "metadata": {},
   "outputs": [],
   "source": []
  }
 ],
 "metadata": {
  "kernelspec": {
   "display_name": "Python 3",
   "language": "python",
   "name": "python3"
  },
  "language_info": {
   "codemirror_mode": {
    "name": "ipython",
    "version": 3
   },
   "file_extension": ".py",
   "mimetype": "text/x-python",
   "name": "python",
   "nbconvert_exporter": "python",
   "pygments_lexer": "ipython3",
   "version": "3.8.3"
  },
  "pycharm": {
   "stem_cell": {
    "cell_type": "raw",
    "metadata": {
     "collapsed": false
    },
    "source": []
   }
  }
 },
 "nbformat": 4,
 "nbformat_minor": 4
}
