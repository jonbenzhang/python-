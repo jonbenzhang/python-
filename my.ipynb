{
 "cells": [
  {
   "cell_type": "markdown",
   "metadata": {},
   "source": [
    "# 列表生成式"
   ]
  },
  {
   "cell_type": "code",
   "execution_count": 2,
   "metadata": {},
   "outputs": [
    {
     "name": "stdout",
     "output_type": "stream",
     "text": [
      "[1, 2, 3, 4, 5, 6, 7, 8, 9]\n",
      "[2, 2, 2, 2, 2, 2, 2, 2, 2]\n",
      "[0, 2, 4, 6, 8]\n",
      "[(0, 0), (0, 1), (0, 2), (0, 3), (0, 4), (1, 0), (1, 1), (1, 2), (1, 3), (1, 4), (2, 0), (2, 1), (2, 2), (2, 3), (2, 4), (3, 0), (3, 1), (3, 2), (3, 3), (3, 4), (4, 0), (4, 1), (4, 2), (4, 3), (4, 4)]\n",
      "[{0: 0}, {0: 1}, {0: 2}, {0: 3}, {0: 4}, {1: 0}, {1: 1}, {1: 2}, {1: 3}, {1: 4}, {2: 0}, {2: 1}, {2: 2}, {2: 3}, {2: 4}, {3: 0}, {3: 1}, {3: 2}, {3: 3}, {3: 4}, {4: 0}, {4: 1}, {4: 2}, {4: 3}, {4: 4}]\n"
     ]
    }
   ],
   "source": [
    "range(1, 100, 5)  # 第一个参数表示开始位，第二个参数表示结束位（不含），第三个参数表示步长，就是每5个数返回一次。\n",
    "a = [i for i in range(1, 10)]  # 列表生成式表示返回i的值，并且返回9次，每次返回的是i的值。\n",
    "print(a)\n",
    "a = [2 for i in range(1, 10)]  # 这里表示返回2，并且返回9次，但是每次的值都是2。\n",
    "print(a)\n",
    "a = [i for i in range (10) if i % 2 == 0]  # 表示在生成式内部加入if判断，当i除以2的余数等于0的时候将数值返回。\n",
    "print(a)\n",
    "a = [(i, j) for i in range(5) for j in range(5)]  # 表示将i和j的值以元组为元素的形式返回，当i循环一次的时候j循环5次，以此类推。\n",
    "print(a)\n",
    "a = [{i: j} for i in range(5) for j in range(5)]  # 表示将i和j的值以字典为元素的形式返回，当i循环一次的时候j循环5次，以此类推。\n",
    "print(a)"
   ]
  },
  {
   "cell_type": "markdown",
   "metadata": {},
   "source": [
    "# 生成器(generator)"
   ]
  },
  {
   "cell_type": "markdown",
   "metadata": {},
   "source": [
    "## 创建生成器简单方式"
   ]
  },
  {
   "cell_type": "markdown",
   "metadata": {},
   "source": [
    "将列表生成试外部的中括号改为小括号，就能将生成式转化为生成器。"
   ]
  },
  {
   "cell_type": "code",
   "execution_count": 9,
   "metadata": {},
   "outputs": [
    {
     "name": "stdout",
     "output_type": "stream",
     "text": [
      "b: 1\n",
      "c: 2\n"
     ]
    }
   ],
   "source": [
    "a = (i for i in range(1, 10))\n",
    "# 生成器的取值方式只能使用next的方法\n",
    "# next()和__next__()实现的效果相同,都是让生成器到下一个返回值\n",
    "b = next(a)\n",
    "print(\"b:\", b)\n",
    "c = a.__next__()\n",
    "print(\"c:\", c)"
   ]
  },
  {
   "cell_type": "markdown",
   "metadata": {},
   "source": [
    "## 函数式生成器"
   ]
  },
  {
   "cell_type": "markdown",
   "metadata": {},
   "source": [
    "当一个函数中含有yield,那么这个函数就成为了一个生成器"
   ]
  },
  {
   "cell_type": "code",
   "execution_count": 31,
   "metadata": {},
   "outputs": [],
   "source": [
    "def generator_test():\n",
    "    print(\"start\")\n",
    "    a = \"test\"\n",
    "    b = yield a\n",
    "    print(\"b:\", b)\n",
    "    c = \"i'm c\"\n",
    "    d = yield c\n",
    "    print(\"d:\", d)\n",
    "    e = \"i'm e\"\n",
    "    f = yield e\n",
    "    print(\"f:\", f)\n",
    "    g = \"i'm g\"\n",
    "    yield g"
   ]
  },
  {
   "cell_type": "code",
   "execution_count": 32,
   "metadata": {},
   "outputs": [
    {
     "name": "stdout",
     "output_type": "stream",
     "text": [
      "first: start\n",
      "f1: test\n",
      "second: b: None\n",
      "f2: i'm c\n",
      "third: d: None\n",
      "f3 i'm e\n",
      "f: send message\n",
      "\n"
     ]
    }
   ],
   "source": [
    "generator1 = generator_test()\n",
    "print(\"first:\",end=\" \")\n",
    "f1 = generator1.__next__() #执行到generator_test中的第4行yield a,把a的值返回\n",
    "print(\"f1:\", f1)\n",
    "print(\"second:\",end= \" \") \n",
    "# 从上一次的yield结束的generator_test第四行开始,因为这一次使用next(),所以只为上一次yield a填充返回值为None\n",
    "# 造成为b赋值None是因为这一次,就是f2 = generator1.__next__()这一次,没有给上一次返回的yield进行填充\n",
    "# 执行到第7行把c的值进行返回\n",
    "f2 = generator1.__next__()\n",
    "print(\"f2:\",f2)\n",
    "print(\"third:\",end=\" \")\n",
    "# 从第7行开始执行,\n",
    "# send(None)指定了yield c 的返回值为None,所以d的值为None \n",
    "# 到第10行yield e 把e的值进行返回\n",
    "# send(None)的效果和next()相同\n",
    "f3 = generator1.send(None)\n",
    "print(\"f3\",f3)\n",
    "# 从第10行开始执行,\n",
    "# send(None)指定了yield e 的返回值为\"send message\",所以f的值为\"send message\" \n",
    "# 到第13行yield g 把g的值进行返回\n",
    "f4 = generator1.send(\"send message\")\n",
    "print(\"\")"
   ]
  },
  {
   "cell_type": "markdown",
   "metadata": {},
   "source": [
    "yield from 的使用,当遇到列表或字符串 字典等变量时按顺序提取每一个值,一次next返回一个"
   ]
  },
  {
   "cell_type": "code",
   "execution_count": 75,
   "metadata": {},
   "outputs": [],
   "source": [
    "def yield_from_test():\n",
    "    yield from \"abcdefg\"\n",
    "yield_from_a = yield_from_test()"
   ]
  },
  {
   "cell_type": "code",
   "execution_count": 76,
   "metadata": {},
   "outputs": [
    {
     "name": "stdout",
     "output_type": "stream",
     "text": [
      "a\n",
      "b\n",
      "c\n",
      "d\n",
      "e\n",
      "f\n",
      "g\n"
     ]
    }
   ],
   "source": [
    "for i in yield_from_a:\n",
    "    print(i)"
   ]
  },
  {
   "cell_type": "markdown",
   "metadata": {},
   "source": [
    "# 迭代器(iterator)"
   ]
  },
  {
   "cell_type": "markdown",
   "metadata": {},
   "source": [
    "1. 生成器是一种特殊的迭代器\n",
    "2. 把一个类作为一个迭代器使用需要在类中实现两个方法 __iter__() 与 __next__() 。\n",
    "3. __iter__() 方法返回一个特殊的迭代器对象， 这个迭代器对象实现了 __next__() 方法并通过 StopIteration 异常标识迭代的完成。\n",
    "4. __next__() 方法会返回下一个迭代器对象。"
   ]
  },
  {
   "cell_type": "markdown",
   "metadata": {},
   "source": [
    "## 优缺点\n",
    "### 优点：\n",
    "1. 为序列和非序列提供了一种统一的迭代取值方式\n",
    "2. 惰性计算：节省内存.迭代器对象表示的是一个数据流，可以只在需要时才去调用next来计算出一个值，就迭代器本身来说，同一时刻在内存中只有一个值，因而可以存放无限大的数据流，而对于其他容器类型，如列表，需要把所有的元素都存放于内存中，受内存大小的限制，可以存放的值的个数是有限的。\n",
    "\n",
    "### 缺点：\n",
    "1. 除非取出所有值，否则无法获取迭代器的长度\n",
    "2. 只能取下一个值，不能回到开始，或者跳跃取值,更像是‘一次性的’，唯一目标就是重复执行方法直到值取尽，否则就会停留在某个位置，等待下一次调用next；若是要再次迭代同个对象，你只能重新调用iter方法去创建一个新的迭代器对象，如果有两个或者多个循环使用同一个迭代器，必然只会有一个循环能取到值。"
   ]
  },
  {
   "cell_type": "code",
   "execution_count": 83,
   "metadata": {},
   "outputs": [
    {
     "name": "stdout",
     "output_type": "stream",
     "text": [
      "<class 'list_iterator'>\n",
      "<class 'tuple_iterator'>\n",
      "<class 'dict_keyiterator'>\n",
      "<class 'dict_valueiterator'>\n"
     ]
    }
   ],
   "source": [
    "a = [1,2,3,4]\n",
    "print(type(iter(a)))\n",
    "a = (1,2,3,4)\n",
    "print(type(iter(a)))\n",
    "c = {1:2,2:3}\n",
    "# 字典中key的迭代器\n",
    "print(type(iter(c)))\n",
    "# 字典中值的迭代器\n",
    "print(type(iter(c.values())))"
   ]
  },
  {
   "cell_type": "code",
   "execution_count": 85,
   "metadata": {},
   "outputs": [
    {
     "name": "stdout",
     "output_type": "stream",
     "text": [
      "1\n",
      "2\n",
      "3\n",
      "4\n",
      "5\n",
      "6\n",
      "7\n",
      "8\n",
      "9\n",
      "10\n",
      "11\n",
      "12\n",
      "13\n",
      "14\n",
      "15\n",
      "16\n",
      "17\n",
      "18\n",
      "19\n",
      "20\n"
     ]
    },
    {
     "data": {
      "text/plain": [
       "[1, 2, 3, 4, 5, 6, 7, 8, 9, 10, 11, 12, 13, 14, 15, 16, 17, 18, 19, 20]"
      ]
     },
     "execution_count": 85,
     "metadata": {},
     "output_type": "execute_result"
    }
   ],
   "source": [
    "class MyNumbers:\n",
    "  def __iter__(self):\n",
    "    self.a = 1\n",
    "    return self\n",
    " \n",
    "  def __next__(self):\n",
    "    if self.a > 20:\n",
    "        # 使用触发 StopIteration 异常来结束迭代\n",
    "        raise StopIteration\n",
    "    x = self.a\n",
    "    self.a += 1\n",
    "    return x\n",
    " \n",
    "myclass = MyNumbers()\n",
    "myiter = iter(myclass)\n",
    "for i in myiter:\n",
    "    print(i)\n",
    "list(myiter)"
   ]
  },
  {
   "cell_type": "code",
   "execution_count": 95,
   "metadata": {},
   "outputs": [
    {
     "data": {
      "text/plain": [
       "True"
      ]
     },
     "execution_count": 95,
     "metadata": {},
     "output_type": "execute_result"
    }
   ],
   "source": [
    "from collections import Iterable\n",
    "# 判断是否是可迭代对象\n",
    "isinstance(\"12\",Iterable)"
   ]
  },
  {
   "cell_type": "markdown",
   "metadata": {},
   "source": [
    "# 闭包"
   ]
  },
  {
   "cell_type": "code",
   "execution_count": 101,
   "metadata": {},
   "outputs": [
    {
     "name": "stdout",
     "output_type": "stream",
     "text": [
      "200\n"
     ]
    }
   ],
   "source": [
    "def num(num): #定义函数\n",
    "    def num_in(nim_in1): #定义函数\n",
    "        return num + nim_in1 #返回两个参数的和。\n",
    "    return num_in #返回内部函数的引用。（变量名）"
   ]
  },
  {
   "cell_type": "code",
   "execution_count": null,
   "metadata": {},
   "outputs": [],
   "source": [
    "a = num(100) #将参数为100的函数num接收，并赋值给a，只不过这个返回值是一个函数的引用。等于 a = num_in，注意这里接收的不光是函数本身，还有已经传递的参数。\n",
    "b = a(100) #调用函数a,即num_in，并传递一个参数100，返回值给b。\n",
    "print(b)"
   ]
  },
  {
   "cell_type": "markdown",
   "metadata": {},
   "source": [
    "# 装饰器"
   ]
  },
  {
   "cell_type": "markdown",
   "metadata": {},
   "source": [
    "1. 装饰器就是闭包的一种"
   ]
  },
  {
   "cell_type": "markdown",
   "metadata": {},
   "source": [
    "## 装饰没有参数的函数"
   ]
  },
  {
   "cell_type": "code",
   "execution_count": 125,
   "metadata": {},
   "outputs": [
    {
     "name": "stdout",
     "output_type": "stream",
     "text": [
      "这里是需要装饰的内容，就是需要添加的内容\n",
      "无参函数的测试\n",
      "*******************\n",
      "这里是需要装饰的内容，就是需要添加的内容\n",
      "无参函数的测试\n"
     ]
    }
   ],
   "source": [
    "def function1(func): #定义了一个闭包\n",
    "    def func_in(): #闭包内的函数\n",
    "        print('这里是需要装饰的内容，就是需要添加的内容')\n",
    "        func() #调用实参函数。\n",
    "    return func_in\n",
    "    \n",
    "def test(): #需要被装饰修改的函数。\n",
    "    print('无参函数的测试')\n",
    "    \n",
    "test = function1(test) #装饰器的原理就是将原有的函数名重新定义为以原函数为参数的闭包。\n",
    "test() #这里再次掉用test()的时候，其实是将会调用闭包内的函数func_in()。所以将会起到装饰修改的作用，最后会再次调用原函数test()。\n",
    "print(\"*******************\")\n",
    "@function1 #装饰器的python写法，等价于test = function(test)，并且无需调用当代码运行道这里，Python会自动运行。\n",
    "def test():\n",
    "    print('无参函数的测试')\n",
    "test()  #这里再次调用函数时，将会产生修改后的效果。"
   ]
  },
  {
   "cell_type": "markdown",
   "metadata": {},
   "source": [
    "## 装饰有参数的函数"
   ]
  },
  {
   "cell_type": "code",
   "execution_count": 126,
   "metadata": {},
   "outputs": [],
   "source": [
    "def function2(func): #定义了一个闭包\n",
    "    def func_in(*args,**kwargs): #闭包内的函数，因为装饰器运行的实则是闭包内的函数，所以这里将需要有形参用来接收原函数的参数。\n",
    "        print('这里是需要装饰的内容，就是需要添加的内容')\n",
    "        print(args)\n",
    "        func(*args,**kwargs) #调用实参函数，并传入一致的实参。\n",
    "\n",
    "    return func_in"
   ]
  },
  {
   "cell_type": "code",
   "execution_count": 127,
   "metadata": {},
   "outputs": [
    {
     "name": "stdout",
     "output_type": "stream",
     "text": [
      "这里是需要装饰的内容，就是需要添加的内容\n",
      "()\n",
      "无参函数的测试\n"
     ]
    }
   ],
   "source": [
    "#装饰没有参数的函数\n",
    "@function2 #装饰器的python写法，等价于test = function(test) .\n",
    "def test():\n",
    "    print('无参函数的测试')\n",
    "test()  #这里再次掉用test()的时候，其实是将会调用闭包内的函数func_in()。所以将会起到装饰修改的作用，最后会再次调用原函数test()。"
   ]
  },
  {
   "cell_type": "code",
   "execution_count": 128,
   "metadata": {},
   "outputs": [
    {
     "name": "stdout",
     "output_type": "stream",
     "text": [
      "这里是需要装饰的内容，就是需要添加的内容\n",
      "(5, 6)\n",
      "a: 5 b: 6\n"
     ]
    }
   ],
   "source": [
    "# 装饰有参数的函数\n",
    "@function2 #装饰器的python写法，等价于test = function(test) .\n",
    "def test2(a,b):\n",
    "    print(\"a:\",a,\"b:\",b)\n",
    "test2(5,6)  #这里再次掉用test()的时候，其实是将会调用闭包内的函数func_in()。所以将会起到装饰修改的作用，最后会再次调用原函数test()。"
   ]
  },
  {
   "cell_type": "markdown",
   "metadata": {},
   "source": [
    "# 装饰带有返回值的函数"
   ]
  },
  {
   "cell_type": "code",
   "execution_count": 129,
   "metadata": {},
   "outputs": [],
   "source": [
    "def function3(func): #定义了一个闭包\n",
    "    def func_in(*args,**kwargs): #闭包内的函数，因为装饰器运行的实则是闭包内的函数，所以这里将需要有形参用来接收原函数的参数。\n",
    "        print('这里是需要装饰的内容，就是需要添加的内容')\n",
    "        num = func(*args,**kwargs) #调用实参函数，并传入一致的实参，并且用变量来接收原函数的返回值，\n",
    "        num_string = \"返回结果为：\"+str(num)\n",
    "        return num_string #将接受到的返回值再次返回到新的test()函数中。\n",
    "    return func_in"
   ]
  },
  {
   "cell_type": "code",
   "execution_count": 130,
   "metadata": {},
   "outputs": [
    {
     "name": "stdout",
     "output_type": "stream",
     "text": [
      "这里是需要装饰的内容，就是需要添加的内容\n",
      "返回结果为：9\n"
     ]
    }
   ],
   "source": [
    "@function3\n",
    "def test3(a,b): #定义一个函数\n",
    "    return a+b #返回实参的和\n",
    "result = test3(4,5)\n",
    "print(result)"
   ]
  },
  {
   "cell_type": "markdown",
   "metadata": {},
   "source": [
    "# 带有参数的装饰器"
   ]
  },
  {
   "cell_type": "code",
   "execution_count": 133,
   "metadata": {},
   "outputs": [],
   "source": [
    "def func(*args,**kwags):\n",
    "    f = args[0]\n",
    "    def function(func): #定义了一个闭包\n",
    "        def func_in(*args,**kwargs): #闭包内的函数，因为装饰器运行的实则是闭包内的函数，所以这里将需要有形参用来接收原函数的参数。\n",
    "            print('这里是需要装饰的内容，就是需要添加的内容')\n",
    "            num = func(*args,**kwargs) #调用实参函数，并传入一致的实参，并且用变量来接收原函数的返回值，\n",
    "            return num**f #将接受到的返回值再次返回到新的test()函数中。\n",
    "        return func_in\n",
    "    return function"
   ]
  },
  {
   "cell_type": "code",
   "execution_count": 138,
   "metadata": {},
   "outputs": [
    {
     "name": "stdout",
     "output_type": "stream",
     "text": [
      "这里是需要装饰的内容，就是需要添加的内容\n",
      "这是一个函数\n"
     ]
    },
    {
     "data": {
      "text/plain": [
       "100"
      ]
     },
     "execution_count": 138,
     "metadata": {},
     "output_type": "execute_result"
    }
   ],
   "source": [
    "# 等价于下面一个代码单元里面实现的装饰器功能\n",
    "def test5(a,b):\n",
    "    print('这是一个函数')\n",
    "    return a+b\n",
    "func_t = func(2)\n",
    "func_t2 = func_t(test5)\n",
    "func_t2(5,5)"
   ]
  },
  {
   "cell_type": "code",
   "execution_count": 136,
   "metadata": {},
   "outputs": [
    {
     "name": "stdout",
     "output_type": "stream",
     "text": [
      "这里是需要装饰的内容，就是需要添加的内容\n",
      "这是一个函数\n"
     ]
    },
    {
     "data": {
      "text/plain": [
       "100"
      ]
     },
     "execution_count": 136,
     "metadata": {},
     "output_type": "execute_result"
    }
   ],
   "source": [
    "# 装饰为返回数的x次方,x的大小由装饰器获取\n",
    "@func(2)  #这里会先运行函数func，并切传入参数，之后会再次运行闭包函数进行装饰, @func(50)>>@function，然后将由@function继续进行装饰修改。\n",
    "def test6(a,b):\n",
    "    print('这是一个函数')\n",
    "    return a+b\n",
    "test6(5,5)"
   ]
  },
  {
   "cell_type": "markdown",
   "metadata": {},
   "source": [
    "## 类装饰器"
   ]
  },
  {
   "cell_type": "code",
   "execution_count": 148,
   "metadata": {},
   "outputs": [
    {
     "name": "stdout",
     "output_type": "stream",
     "text": [
      "这里是装饰的功能\n",
      "被装饰的函数test7\n",
      "***************************\n",
      "这里是装饰的功能\n",
      "被装饰的函数test8\n"
     ]
    }
   ],
   "source": [
    "class Test(object): #定义一个类\n",
    "    def __init__(self,func):\n",
    "        self.__func = func\n",
    "    def __call__(self):  #定义call方法，当直接调用类的时候，运行这里。\n",
    "        print('这里是装饰的功能')\n",
    "        self.__func()\n",
    "def test7():\n",
    "    print('被装饰的函数test7')\n",
    "t = Test(test7) #实例化对象\n",
    "t()#调用类，将会调用call方法。\n",
    "print(\"***************************\")\n",
    "@Test  #类装饰器等于test = Test(test),将函数test当作参数传入类中的init方法，并将函数名赋值给私有属性__func，当函数test被调用的时候，其实是运行Test类中的call方法.\n",
    "def test8():\n",
    "    print('被装饰的函数test8')\n",
    "test8() #这里调用的不在是函数test，而是实例对象test的call方法，会先进行装饰，然后再调用私有属性__func(),__func 其实就是被装饰的函数test。"
   ]
  },
  {
   "cell_type": "markdown",
   "metadata": {},
   "source": [
    "# 关键字"
   ]
  },
  {
   "cell_type": "markdown",
   "metadata": {},
   "source": [
    "# lambda"
   ]
  },
  {
   "cell_type": "markdown",
   "metadata": {},
   "source": [
    "### 三个特性"
   ]
  },
  {
   "cell_type": "markdown",
   "metadata": {},
   "source": [
    "lambda函数有如下特性：\n",
    "\n",
    "lambda函数是匿名的：所谓匿名函数，通俗地说就是没有名字的函数。lambda函数没有名字。\n",
    "\n",
    "lambda函数有输入和输出：输入是传入到参数列表argument_list的值，输出是根据表达式expression计算得到的值。\n",
    "\n",
    "lambda函数一般功能简单：单行expression决定了lambda函数不可能完成复杂的逻辑，只能完成非常简单的功能。由于其实现的功能一目了然，甚至不需要专门的名字来说明。\n",
    "\n",
    "下面是一些lambda函数示例：\n",
    "\n",
    "* lambda x, y: x*y；函数输入是x和y，输出是它们的积x*y\n",
    "* lambda:None；函数没有输入参数，输出是None\n",
    "* lambda *args: sum(args); 输入是任意个数的参数，输出是它们的和(隐性要求是输入参数必须能够进行加法运算)\n",
    "* lambda **kwargs: 1；输入是任意键值对参数，输出是1"
   ]
  },
  {
   "cell_type": "markdown",
   "metadata": {},
   "source": [
    "### 四个用法"
   ]
  },
  {
   "cell_type": "markdown",
   "metadata": {},
   "source": [
    "由于lambda语法是固定的，其本质上只有一种用法，那就是定义一个lambda函数。在实际中，根据这个lambda函数应用场景的不同，可以将lambda函数的用法扩展为以下几种：\n",
    "\n",
    "1. 将lambda函数赋值给一个变量，通过这个变量间接调用该lambda函数。\n",
    "\n",
    "例如，执行语句add=lambda x, y: x+y，定义了加法函数lambda x, y: x+y，并将其赋值给变量add，这样变量add便成为具有加法功能的函数。例如，执行add(1,2)，输出为3。\n",
    "\n",
    "2. 将lambda函数赋值给其他函数，从而将其他函数用该lambda函数替换。\n",
    "\n",
    "例如，为了把标准库time中的函数sleep的功能屏蔽(Mock)，我们可以在程序初始化时调用：time.sleep=lambda x:None。这样，在后续代码中调用time库的sleep函数将不会执行原有的功能。例如，执行time.sleep(3)时，程序不会休眠3秒钟，而是什么都不做。\n",
    "\n",
    "3. 将lambda函数作为其他函数的返回值，返回给调用者。\n",
    "\n",
    "函数的返回值也可以是函数。例如return lambda x, y: x+y返回一个加法函数。这时，lambda函数实际上是定义在某个函数内部的函数，称之为嵌套函数，或者内部函数。对应的，将包含嵌套函数的函数称之为外部函数。内部函数能够访问外部函数的局部变量，这个特性是闭包(Closure)编程的基础，在这里我们不展开。\n",
    "\n",
    "4. 将lambda函数作为参数传递给其他函数。\n",
    "\n",
    "部分Python内置函数接收函数作为参数。典型的此类内置函数有这些。\n",
    "\n",
    "* **filter函数**。此时lambda函数用于指定过滤列表元素的条件。例如filter(lambda x: x % 3 == 0, [1, 2, 3])指定将列表[1,2,3]中能够被3整除的元素过滤出来，其结果是[3]。\n",
    "\n",
    "* **sorted函数**。此时lambda函数用于指定对列表中所有元素进行排序的准则。例如sorted([1, 2, 3, 4, 5, 6, 7, 8, 9], key=lambda x: abs(5-x))将列表[1, 2, 3, 4, 5, 6, 7, 8, 9]按照元素与5距离从小到大进行排序，其结果是[5, 4, 6, 3, 7, 2, 8, 1, 9]。\n",
    "\n",
    "* **map函数**。此时lambda函数用于指定对列表中每一个元素的共同操作。例如map(lambda x: x+1, [1, 2,3])将列表[1, 2, 3]中的元素分别加1，其结果[2, 3, 4]。\n",
    "\n",
    "* **reduce函数**。此时lambda函数用于指定列表中两两相邻元素的结合条件。例如reduce(lambda a, b: '{}, {}'.format(a, b), [1, 2, 3, 4, 5, 6, 7, 8, 9])将列表 [1, 2, 3, 4, 5, 6, 7, 8, 9]中的元素从左往右两两以逗号分隔的字符的形式依次结合起来，其结果是'1, 2, 3, 4, 5, 6, 7, 8, 9'。\n",
    "\n",
    "另外，部分Python库函数也接收函数作为参数，例如gevent的spawn函数。此时，lambda函数也能够作为参数传入。"
   ]
  }
 ],
 "metadata": {
  "kernelspec": {
   "display_name": "Python 3",
   "language": "python",
   "name": "python3"
  },
  "language_info": {
   "codemirror_mode": {
    "name": "ipython",
    "version": 3
   },
   "file_extension": ".py",
   "mimetype": "text/x-python",
   "name": "python",
   "nbconvert_exporter": "python",
   "pygments_lexer": "ipython3",
   "version": "3.8.3"
  }
 },
 "nbformat": 4,
 "nbformat_minor": 4
}
